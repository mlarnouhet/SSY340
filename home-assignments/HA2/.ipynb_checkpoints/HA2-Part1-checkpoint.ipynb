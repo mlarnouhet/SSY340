{
 "cells": [
  {
   "cell_type": "markdown",
   "metadata": {
    "deletable": false,
    "editable": false,
    "nbgrader": {
     "cell_type": "markdown",
     "checksum": "20a4d65ee77906a86bc39bc4046a2a36",
     "grade": false,
     "grade_id": "cell-5690119ead85e67e",
     "locked": true,
     "schema_version": 3,
     "solution": false,
     "task": false
    }
   },
   "source": [
    "### Checklist for submission\n",
    "\n",
    "It is extremely important to make sure that:\n",
    "\n",
    "1. Everything runs as expected (no bugs when running cells);\n",
    "2. The output from each cell corresponds to its code (don't change any cell's contents without rerunning it afterwards);\n",
    "3. All outputs are present (don't delete any of the outputs);\n",
    "4. Fill in all the places that say `# YOUR CODE HERE`, or \"**Your answer:** (fill in here)\".\n",
    "5. Never copy/paste any notebook cells. Inserting new cells is allowed, but it should not be necessary.\n",
    "6. The notebook contains some hidden metadata which is important during our grading process. **Make sure not to corrupt any of this metadata!** The metadata may for example be corrupted if you copy/paste any notebook cells, or if you perform an unsuccessful git merge / git pull. It may also be pruned completely if using Google Colab, so watch out for this. Searching for \"nbgrader\" when opening the notebook in a text editor should take you to the important metadata entries.\n",
    "7. Although we will try our very best to avoid this, it may happen that bugs are found after an assignment is released, and that we will push an updated version of the assignment to GitHub. If this happens, it is important that you update to the new version, while making sure the notebook metadata is properly updated as well. The safest way to make sure nothing gets messed up is to start from scratch on a clean updated version of the notebook, copy/pasting your code from the cells of the previous version into the cells of the new version.\n",
    "8. If you need to have multiple parallel versions of this notebook, make sure not to move them to another directory.\n",
    "9. Although not forced to work exclusively in the course `conda` environment, you need to make sure that the notebook will run in that environment, i.e. that you have not added any additional dependencies.\n",
    "\n",
    "**FOR HA1, HA2, HA3 ONLY:** Failing to meet any of these requirements might lead to either a subtraction of POEs (at best) or a request for resubmission (at worst).\n",
    "\n",
    "We advise you to perform the following steps before submission to ensure that requirements 1, 2, and 3 are always met: **Restart the kernel** (in the menubar, select Kernel$\\rightarrow$Restart) and then **run all cells** (in the menubar, select Cell$\\rightarrow$Run All). This might require a bit of time, so plan ahead for this (and possibly use a cloud GPU in HA1 and HA2 for this step). Finally press the \"Save and Checkout\" button before handing in, to make sure that all your changes are saved to this .ipynb file."
   ]
  },
  {
   "cell_type": "markdown",
   "metadata": {
    "deletable": false,
    "editable": false,
    "nbgrader": {
     "cell_type": "markdown",
     "checksum": "a6bb874a16c1ff767ac0f37ce0491265",
     "grade": false,
     "grade_id": "cell-774c93bf6433de68",
     "locked": true,
     "schema_version": 3,
     "solution": false,
     "task": false
    }
   },
   "source": [
    "### Fill in name of notebook file\n",
    "This might seem silly, but the version check below needs to know the filename of the current notebook, which is not trivial to find out programmatically.\n",
    "\n",
    "You might want to have several parallel versions of the notebook, and it is fine to rename the notebook as long as it stays in the same directory. **However**, if you do rename it, you also need to update its own filename below:"
   ]
  },
  {
   "cell_type": "code",
   "execution_count": 6,
   "metadata": {},
   "outputs": [],
   "source": [
    " nb_fname = \"HA2-Part1.ipynb\""
   ]
  },
  {
   "cell_type": "markdown",
   "metadata": {
    "deletable": false,
    "editable": false,
    "nbgrader": {
     "cell_type": "markdown",
     "checksum": "879883c2ea755808ffd00aeee5c77a00",
     "grade": false,
     "grade_id": "cell-5676bcf768a7f9be",
     "locked": true,
     "schema_version": 3,
     "solution": false,
     "task": false
    }
   },
   "source": [
    "### Fill in group number and member names (use NAME2 and GROUP only for HA1, HA2 and HA3):"
   ]
  },
  {
   "cell_type": "code",
   "execution_count": 7,
   "metadata": {},
   "outputs": [],
   "source": [
    "NAME1 = \"\" \n",
    "NAME2 = \"\"\n",
    "GROUP = \"\""
   ]
  },
  {
   "cell_type": "markdown",
   "metadata": {
    "deletable": false,
    "editable": false,
    "nbgrader": {
     "cell_type": "markdown",
     "checksum": "42f960a95815e1aa3ce8132fcec59cd9",
     "grade": false,
     "grade_id": "cell-a15fe781533d9590",
     "locked": true,
     "schema_version": 3,
     "solution": false,
     "task": false
    }
   },
   "source": [
    "### Check Python version"
   ]
  },
  {
   "cell_type": "code",
   "execution_count": 8,
   "metadata": {
    "deletable": false,
    "editable": false,
    "nbgrader": {
     "cell_type": "code",
     "checksum": "736e393ef62f60d5e70432726e7209e0",
     "grade": false,
     "grade_id": "cell-2b9c2390ee464c39",
     "locked": true,
     "schema_version": 3,
     "solution": false,
     "task": false
    }
   },
   "outputs": [],
   "source": [
    "from platform import python_version_tuple\n",
    "assert python_version_tuple()[:2] == ('3','9'), \"You are not running Python 3.9. Make sure to run Python through the course Conda environment.\""
   ]
  },
  {
   "cell_type": "markdown",
   "metadata": {
    "deletable": false,
    "editable": false,
    "nbgrader": {
     "cell_type": "markdown",
     "checksum": "15ec4309f1e85f6e17bda73b9b6f48a2",
     "grade": false,
     "grade_id": "cell-4869b45600ce82f8",
     "locked": true,
     "schema_version": 3,
     "solution": false,
     "task": false
    }
   },
   "source": [
    "### Check that notebook server has access to all required resources, and that notebook has not moved"
   ]
  },
  {
   "cell_type": "code",
   "execution_count": 9,
   "metadata": {
    "deletable": false,
    "editable": false,
    "nbgrader": {
     "cell_type": "code",
     "checksum": "a2d199303c73ec86d25177caf39e385f",
     "grade": false,
     "grade_id": "cell-122ac3d9100b8afb",
     "locked": true,
     "schema_version": 3,
     "solution": false,
     "task": false
    }
   },
   "outputs": [],
   "source": [
    "import os\n",
    "nb_dirname = os.path.abspath('')\n",
    "assignment_name = os.path.basename(nb_dirname)\n",
    "assert assignment_name in ['IHA1', 'IHA2', 'HA1', 'HA2', 'HA3'], \\\n",
    "    '[ERROR] The notebook appears to have been moved from its original directory'"
   ]
  },
  {
   "cell_type": "markdown",
   "metadata": {
    "deletable": false,
    "editable": false,
    "nbgrader": {
     "cell_type": "markdown",
     "checksum": "f09f40b5350db83232189137c550f0a1",
     "grade": false,
     "grade_id": "cell-2455deee513cd39c",
     "locked": true,
     "schema_version": 3,
     "solution": false,
     "task": false
    }
   },
   "source": [
    "### Verify correct nb_fname"
   ]
  },
  {
   "cell_type": "code",
   "execution_count": 10,
   "metadata": {
    "deletable": false,
    "editable": false,
    "nbgrader": {
     "cell_type": "code",
     "checksum": "a78c7227b049bb147e6c363affb6dae8",
     "grade": false,
     "grade_id": "cell-0472e2fd710f1d72",
     "locked": true,
     "schema_version": 3,
     "solution": false,
     "task": false
    }
   },
   "outputs": [
    {
     "data": {
      "text/html": [
       "<script>if(\"HA2-Part1.ipynb\" != IPython.notebook.notebook_name) { alert(\"You have filled in nb_fname = \\\"HA2-Part1.ipynb\\\", but this does not seem to match the notebook filename \\\"\" + IPython.notebook.notebook_name + \"\\\".\"); }</script>"
      ],
      "text/plain": [
       "<IPython.core.display.HTML object>"
      ]
     },
     "metadata": {},
     "output_type": "display_data"
    }
   ],
   "source": [
    "from IPython.display import display, HTML\n",
    "try:\n",
    "    display(HTML(r'<script>if(\"{nb_fname}\" != IPython.notebook.notebook_name) {{ alert(\"You have filled in nb_fname = \\\"{nb_fname}\\\", but this does not seem to match the notebook filename \\\"\" + IPython.notebook.notebook_name + \"\\\".\"); }}</script>'.format(nb_fname=nb_fname)))\n",
    "except NameError:\n",
    "    assert False, 'Make sure to fill in the nb_fname variable above!'"
   ]
  },
  {
   "cell_type": "markdown",
   "metadata": {
    "deletable": false,
    "editable": false,
    "nbgrader": {
     "cell_type": "markdown",
     "checksum": "98d88d8e8da19693053764f29dcc591d",
     "grade": false,
     "grade_id": "cell-ceacb1adcae4783d",
     "locked": true,
     "schema_version": 3,
     "solution": false,
     "task": false
    }
   },
   "source": [
    "### Verify that your notebook is up-to-date and not corrupted in any way"
   ]
  },
  {
   "cell_type": "code",
   "execution_count": 11,
   "metadata": {
    "deletable": false,
    "editable": false,
    "nbgrader": {
     "cell_type": "code",
     "checksum": "bb700528d4644601c1a8c91ef1d84635",
     "grade": false,
     "grade_id": "cell-f5a59288e11b4aec",
     "locked": true,
     "schema_version": 3,
     "solution": false,
     "task": false
    }
   },
   "outputs": [
    {
     "name": "stdout",
     "output_type": "stream",
     "text": [
      "Matching current notebook against the following URL:\n",
      "http://raw.githubusercontent.com/dml-cth/deep-machine-learning/master/home-assignments/HA2/HA2-Part1.ipynb\n",
      "[SUCCESS] No major notebook mismatch found when comparing to latest GitHub version. (There might be minor updates, but even that is the case, submitting your work based on this notebook version would be acceptable.)\n"
     ]
    }
   ],
   "source": [
    "import sys\n",
    "sys.path.append('..')\n",
    "from ha_utils import check_notebook_uptodate_and_not_corrupted\n",
    "check_notebook_uptodate_and_not_corrupted(nb_dirname, nb_fname)"
   ]
  },
  {
   "cell_type": "markdown",
   "metadata": {
    "deletable": false,
    "editable": false,
    "nbgrader": {
     "cell_type": "markdown",
     "checksum": "1a3d4c3586543ada9e989a70ca0b714f",
     "grade": false,
     "grade_id": "cell-64e1db7b9018bb3c",
     "locked": true,
     "schema_version": 3,
     "solution": false
    }
   },
   "source": [
    "# HA2 - Recurrent Neural Networks"
   ]
  },
  {
   "cell_type": "markdown",
   "metadata": {
    "deletable": false,
    "editable": false,
    "nbgrader": {
     "cell_type": "markdown",
     "checksum": "ede543ca35a8a171477021feba7cac50",
     "grade": false,
     "grade_id": "cell-2a56acd8b54adbc7",
     "locked": true,
     "schema_version": 3,
     "solution": false
    }
   },
   "source": [
    "This assignment is divided into two parts. In the first one, you will implement a vanilla RNN module from scratch using PyTorch to perform the task of predicting the nationality of a given name. In the second, you will implement many of the components in a Transformer block, and use it to classify movie reviews as positive or negative. \n",
    "\n",
    "For efficient use of GPU hours, you can do all development up until the training on a CPU. You can then run the training on a GPU for faster training times. "
   ]
  },
  {
   "cell_type": "markdown",
   "metadata": {
    "deletable": false,
    "editable": false,
    "nbgrader": {
     "cell_type": "markdown",
     "checksum": "b230b916db79763c4ae31f10fb3834ed",
     "grade": false,
     "grade_id": "cell-a7a1fe5598d08eae",
     "locked": true,
     "schema_version": 3,
     "solution": false
    }
   },
   "source": [
    "## Task 1 - Predicting Nationalities"
   ]
  },
  {
   "cell_type": "markdown",
   "metadata": {
    "deletable": false,
    "editable": false,
    "nbgrader": {
     "cell_type": "markdown",
     "checksum": "f6d2792c8867f0fd983839444067a2e1",
     "grade": false,
     "grade_id": "cell-aad0c935c03346c9",
     "locked": true,
     "schema_version": 3,
     "solution": false
    }
   },
   "source": [
    "In this task, you will create an RNN module using PyTorch, and train it to predict the nationality of a given input name. Your RNN will process each character of an input name at a time, and at the last character output a probability mass function over the possible countries.\n",
    "\n",
    "The data for this task is present in the file `data/nam_dict.txt`. After parsing it we will have around 44k names from 41 different countries."
   ]
  },
  {
   "cell_type": "markdown",
   "metadata": {
    "deletable": false,
    "editable": false,
    "nbgrader": {
     "cell_type": "markdown",
     "checksum": "88e94a32152c5c6447c42352b00c56f6",
     "grade": false,
     "grade_id": "cell-781c35fef278ad47",
     "locked": true,
     "schema_version": 3,
     "solution": false
    }
   },
   "source": [
    "### 1.1 Loading the data"
   ]
  },
  {
   "cell_type": "markdown",
   "metadata": {
    "deletable": false,
    "editable": false,
    "nbgrader": {
     "cell_type": "markdown",
     "checksum": "ef4e3f8191d07d16c7129210867e1cc4",
     "grade": false,
     "grade_id": "cell-12c085211bc03428",
     "locked": true,
     "schema_version": 3,
     "solution": false
    }
   },
   "source": [
    "We'll start by loading the data from the `nam_dict.txt` file, using the provided method `get_data_from_file`."
   ]
  },
  {
   "cell_type": "code",
   "execution_count": 188,
   "metadata": {
    "deletable": false,
    "editable": false,
    "nbgrader": {
     "cell_type": "code",
     "checksum": "578b8dc7fef786bb9d0eb9bfd9804796",
     "grade": false,
     "grade_id": "cell-7c9a70be36d77bde",
     "locked": true,
     "schema_version": 3,
     "solution": false
    }
   },
   "outputs": [],
   "source": [
    "from utils.load_names import get_data_from_file\n",
    "names_dict = get_data_from_file('data/nam_dict.txt')"
   ]
  },
  {
   "cell_type": "markdown",
   "metadata": {
    "deletable": false,
    "editable": false,
    "nbgrader": {
     "cell_type": "markdown",
     "checksum": "e4396ec5026f36d2d897eb28273fa47c",
     "grade": false,
     "grade_id": "cell-3d6450ecfff464cf",
     "locked": true,
     "schema_version": 3,
     "solution": false
    }
   },
   "source": [
    "The newly-created variable `names_dict` is a dictionary where each country is a key, and the value is the corresponding list of names from that country."
   ]
  },
  {
   "cell_type": "code",
   "execution_count": 189,
   "metadata": {
    "deletable": false,
    "editable": false,
    "nbgrader": {
     "cell_type": "code",
     "checksum": "0a3c16d045a6e3ea16cae84c8f4039b8",
     "grade": false,
     "grade_id": "cell-2979a922e5fd9032",
     "locked": true,
     "schema_version": 3,
     "solution": false
    }
   },
   "outputs": [
    {
     "data": {
      "text/plain": [
       "dict_keys(['Great Britain', 'Ireland', 'U.S.A.', 'Italy', 'Portugal', 'Spain', 'France', 'the Netherlands', 'East Frisia', 'Germany', 'Swiss', 'Iceland', 'Denmark', 'Norway', 'Sweden', 'Finland', 'Estonia', 'Latvia', 'Lithuania', 'Hungary', 'Romania', 'Bulgaria', 'Bosnia and Herzegovina', 'Croatia', 'Kosovo', 'Serbia', 'Albania', 'Greece', 'Russia', 'Ukraine', 'Armenia', 'Azerbaijan', 'Kazakhstan/Uzbekistan,etc.', 'Turkey', 'Arabia/Persia', 'Israel', 'China', 'India/Sri Lanka', 'Japan', 'Korea', 'Vietnam'])"
      ]
     },
     "execution_count": 189,
     "metadata": {},
     "output_type": "execute_result"
    }
   ],
   "source": [
    "names_dict.keys()"
   ]
  },
  {
   "cell_type": "code",
   "execution_count": 190,
   "metadata": {
    "deletable": false,
    "editable": false,
    "nbgrader": {
     "cell_type": "code",
     "checksum": "fabffeb8a60ded472b3ab0996e6acd34",
     "grade": false,
     "grade_id": "cell-b9578aa61d75938e",
     "locked": true,
     "schema_version": 3,
     "solution": false
    }
   },
   "outputs": [
    {
     "data": {
      "text/plain": [
       "['Achilleas',\n",
       " 'Achillefs',\n",
       " 'Adamantia',\n",
       " 'Adamantini',\n",
       " 'Adamantios',\n",
       " 'Aeneas',\n",
       " 'Afroditi',\n",
       " 'Agapi',\n",
       " 'Agapios',\n",
       " 'Agathi']"
      ]
     },
     "execution_count": 190,
     "metadata": {},
     "output_type": "execute_result"
    }
   ],
   "source": [
    "names_dict['Greece'][:10]"
   ]
  },
  {
   "cell_type": "markdown",
   "metadata": {
    "deletable": false,
    "editable": false,
    "nbgrader": {
     "cell_type": "markdown",
     "checksum": "298f96dbddf1b6528aba07514a1442de",
     "grade": false,
     "grade_id": "cell-172dd5d6a5c41971",
     "locked": true,
     "schema_version": 3,
     "solution": false
    }
   },
   "source": [
    "Let's look at the dataset in more detail. Plot the number of names in each country using a [bar plot](https://matplotlib.org/3.1.1/api/_as_gen/matplotlib.pyplot.bar.html).\n",
    "\n",
    "*Hints*:\n",
    "\n",
    "- You can put labels in the x-axis using the method [`xticks`](https://matplotlib.org/3.1.1/api/_as_gen/matplotlib.pyplot.xticks.html).\n",
    "- The `xticks` method accepts a keyword argument named `rotation`."
   ]
  },
  {
   "cell_type": "code",
   "execution_count": 191,
   "metadata": {
    "deletable": false,
    "nbgrader": {
     "cell_type": "code",
     "checksum": "239562267cb4dc6cbc5bdd6e1fa817be",
     "grade": true,
     "grade_id": "cell-ff582e8e844bfb50",
     "locked": false,
     "points": 0,
     "schema_version": 3,
     "solution": true
    }
   },
   "outputs": [
    {
     "name": "stderr",
     "output_type": "stream",
     "text": [
      "No artists with labels found to put in legend.  Note that artists whose label start with an underscore are ignored when legend() is called with no argument.\n"
     ]
    },
    {
     "data": {
      "text/plain": [
       "<matplotlib.legend.Legend at 0x29413dc3760>"
      ]
     },
     "execution_count": 191,
     "metadata": {},
     "output_type": "execute_result"
    },
    {
     "data": {
      "image/png": "[encoded data removed]",
      "text/plain": [
       "<Figure size 1332x756 with 1 Axes>"
      ]
     },
     "metadata": {
      "needs_background": "light"
     },
     "output_type": "display_data"
    }
   ],
   "source": [
    "%matplotlib inline\n",
    "import matplotlib.pyplot as plt\n",
    "import numpy as np\n",
    "\n",
    "\n",
    "labels = list(names_dict.keys())\n",
    "num_names = [len(names_dict[country]) for country in labels]\n",
    "\n",
    "x = np.arange(len(labels))  # the label locations\n",
    "width = 0.35  # the width of the bars\n",
    "\n",
    "fig, ax = plt.subplots()\n",
    "rects = ax.bar(x - width/2, num_names, width)\n",
    "fig.set_size_inches(18.5, 10.5)\n",
    "\n",
    "# Add some text for labels, title and custom x-axis tick labels, etc.\n",
    "ax.set_ylabel('Number of names')\n",
    "ax.set_title('Number of names for each country')\n",
    "ax.set_xticks(x)\n",
    "ax.set_xticklabels(labels, rotation=-90)\n",
    "ax.legend()"
   ]
  },
  {
   "cell_type": "markdown",
   "metadata": {
    "deletable": false,
    "editable": false,
    "nbgrader": {
     "cell_type": "markdown",
     "checksum": "49ae44d43070a2af47e3d5fc76723983",
     "grade": false,
     "grade_id": "cell-390475b6777ce344",
     "locked": true,
     "schema_version": 3,
     "solution": false
    }
   },
   "source": [
    "**[1 point]** Is this dataset balanced? If not, which are the top-3 countries with most names?"
   ]
  },
  {
   "cell_type": "markdown",
   "metadata": {
    "deletable": false,
    "nbgrader": {
     "cell_type": "markdown",
     "checksum": "d6423fd1b8b08bade86d7733d2c62a87",
     "grade": true,
     "grade_id": "cell-e70912fa2bf69d84",
     "locked": false,
     "points": 1,
     "schema_version": 3,
     "solution": true
    }
   },
   "source": [
    "**Your answer:** The dataset is not balanced, China, USA and Italy have the most names"
   ]
  },
  {
   "cell_type": "markdown",
   "metadata": {
    "deletable": false,
    "editable": false,
    "nbgrader": {
     "cell_type": "markdown",
     "checksum": "1db6be82caa3a09c812b3158187adcf8",
     "grade": false,
     "grade_id": "cell-b332445688db5846",
     "locked": true,
     "schema_version": 3,
     "solution": false
    }
   },
   "source": [
    "### 1.2 Pre-processing"
   ]
  },
  {
   "cell_type": "markdown",
   "metadata": {
    "deletable": false,
    "editable": false,
    "nbgrader": {
     "cell_type": "markdown",
     "checksum": "8e9d2c3be16a91407c9403684b28ddfe",
     "grade": false,
     "grade_id": "cell-0248575eadc7e93e",
     "locked": true,
     "schema_version": 3,
     "solution": false
    }
   },
   "source": [
    "We will train an RNN which takes as input one character at each time-step. In order to do so, we will encode every character in the input names into a one-hot representation that is more suited to be fed to neural networks. \n",
    "\n",
    "The first thing we need to do is to decide the size of the alphabet used for the one-hot encoding. To do so, let's take a look at all the characters used in the dataset. A simple way to do so is putting all names in the same string and then using a `set` to get the unique values. We'll treat upper-case and lower-case characters as being the same."
   ]
  },
  {
   "cell_type": "code",
   "execution_count": 192,
   "metadata": {
    "deletable": false,
    "editable": false,
    "nbgrader": {
     "cell_type": "code",
     "checksum": "09994757b29a7eef77096b060629fb89",
     "grade": false,
     "grade_id": "cell-6b58e326e17e53f5",
     "locked": true,
     "schema_version": 3,
     "solution": false
    }
   },
   "outputs": [
    {
     "name": "stdout",
     "output_type": "stream",
     "text": [
      "57 characters:\n"
     ]
    },
    {
     "data": {
      "text/plain": [
       "[' ',\n",
       " \"'\",\n",
       " '-',\n",
       " 'a',\n",
       " 'b',\n",
       " 'c',\n",
       " 'd',\n",
       " 'e',\n",
       " 'f',\n",
       " 'g',\n",
       " 'h',\n",
       " 'i',\n",
       " 'j',\n",
       " 'k',\n",
       " 'l',\n",
       " 'm',\n",
       " 'n',\n",
       " 'o',\n",
       " 'p',\n",
       " 'q',\n",
       " 'r',\n",
       " 's',\n",
       " 't',\n",
       " 'u',\n",
       " 'v',\n",
       " 'w',\n",
       " 'x',\n",
       " 'y',\n",
       " 'z',\n",
       " 'ß',\n",
       " 'à',\n",
       " 'á',\n",
       " 'â',\n",
       " 'ã',\n",
       " 'ä',\n",
       " 'å',\n",
       " 'æ',\n",
       " 'ç',\n",
       " 'è',\n",
       " 'é',\n",
       " 'ê',\n",
       " 'ë',\n",
       " 'í',\n",
       " 'î',\n",
       " 'ï',\n",
       " 'ð',\n",
       " 'ñ',\n",
       " 'ò',\n",
       " 'ó',\n",
       " 'ô',\n",
       " 'õ',\n",
       " 'ö',\n",
       " 'ø',\n",
       " 'ú',\n",
       " 'ü',\n",
       " 'ý',\n",
       " 'þ']"
      ]
     },
     "execution_count": 192,
     "metadata": {},
     "output_type": "execute_result"
    }
   ],
   "source": [
    "temp = \" \"\n",
    "for name_list in names_dict.values():\n",
    "    for name in name_list:\n",
    "        temp += name.lower()\n",
    "charset = sorted(set(temp))\n",
    "print(f\"{len(charset)} characters:\")\n",
    "charset"
   ]
  },
  {
   "cell_type": "markdown",
   "metadata": {
    "deletable": false,
    "editable": false,
    "nbgrader": {
     "cell_type": "markdown",
     "checksum": "aa26ef5d12faceb8d330856b41769a40",
     "grade": false,
     "grade_id": "cell-c28ba53b5126e2f5",
     "locked": true,
     "schema_version": 3,
     "solution": false
    }
   },
   "source": [
    "Now we can create a function that takes as input a name, and outputs a `(name length) x (charset length)` tensor."
   ]
  },
  {
   "cell_type": "code",
   "execution_count": 193,
   "metadata": {
    "deletable": false,
    "editable": false,
    "nbgrader": {
     "cell_type": "code",
     "checksum": "14585ce3bdfe1f68870f92fa78e537ad",
     "grade": false,
     "grade_id": "cell-e078bcfbef92ef2d",
     "locked": true,
     "schema_version": 3,
     "solution": false
    }
   },
   "outputs": [],
   "source": [
    "import torch"
   ]
  },
  {
   "cell_type": "code",
   "execution_count": 194,
   "metadata": {
    "deletable": false,
    "editable": false,
    "nbgrader": {
     "cell_type": "code",
     "checksum": "650bc6a662a9ecae216e389f1f540591",
     "grade": false,
     "grade_id": "cell-28b1f4faf5fe75a3",
     "locked": true,
     "schema_version": 3,
     "solution": false
    }
   },
   "outputs": [],
   "source": [
    "def name2tensor(name):\n",
    "    name = name.lower()\n",
    "\n",
    "    # Create tensor of correct size filled with zeros\n",
    "    tensor = torch.zeros(len(name), len(charset))\n",
    "\n",
    "    # For each letter, fill in the tensor with a 1 in the position corresponding to the character index in the charset\n",
    "    for i, letter in enumerate(name):\n",
    "        char_index = charset.index(letter)\n",
    "        tensor[i][char_index] = 1\n",
    "\n",
    "    return tensor\n"
   ]
  },
  {
   "cell_type": "code",
   "execution_count": 195,
   "metadata": {
    "deletable": false,
    "editable": false,
    "nbgrader": {
     "cell_type": "code",
     "checksum": "8a9bbbdc34b5d27a2f3187bda44fa59f",
     "grade": false,
     "grade_id": "cell-5d8cbbfaa7917f2c",
     "locked": true,
     "schema_version": 3,
     "solution": false
    }
   },
   "outputs": [
    {
     "data": {
      "text/plain": [
       "tensor([[0., 0., 0., 1., 0., 0., 0., 0., 0., 0., 0., 0., 0., 0., 0., 0., 0., 0.,\n",
       "         0., 0., 0., 0., 0., 0., 0., 0., 0., 0., 0., 0., 0., 0., 0., 0., 0., 0.,\n",
       "         0., 0., 0., 0., 0., 0., 0., 0., 0., 0., 0., 0., 0., 0., 0., 0., 0., 0.,\n",
       "         0., 0., 0.],\n",
       "        [0., 0., 0., 0., 0., 0., 0., 0., 0., 0., 0., 0., 0., 0., 1., 0., 0., 0.,\n",
       "         0., 0., 0., 0., 0., 0., 0., 0., 0., 0., 0., 0., 0., 0., 0., 0., 0., 0.,\n",
       "         0., 0., 0., 0., 0., 0., 0., 0., 0., 0., 0., 0., 0., 0., 0., 0., 0., 0.,\n",
       "         0., 0., 0.],\n",
       "        [0., 0., 0., 0., 0., 0., 0., 0., 0., 0., 0., 1., 0., 0., 0., 0., 0., 0.,\n",
       "         0., 0., 0., 0., 0., 0., 0., 0., 0., 0., 0., 0., 0., 0., 0., 0., 0., 0.,\n",
       "         0., 0., 0., 0., 0., 0., 0., 0., 0., 0., 0., 0., 0., 0., 0., 0., 0., 0.,\n",
       "         0., 0., 0.]])"
      ]
     },
     "execution_count": 195,
     "metadata": {},
     "output_type": "execute_result"
    }
   ],
   "source": [
    "name2tensor('Ali')"
   ]
  },
  {
   "cell_type": "markdown",
   "metadata": {
    "deletable": false,
    "editable": false,
    "nbgrader": {
     "cell_type": "markdown",
     "checksum": "20d3d8b2de876fd7d1160298362838a2",
     "grade": false,
     "grade_id": "cell-21a59eb745d70bfd",
     "locked": true,
     "schema_version": 3,
     "solution": false,
     "task": false
    }
   },
   "source": [
    "Why does the above output tensor contain a 1 at position (0,3)?"
   ]
  },
  {
   "cell_type": "markdown",
   "metadata": {
    "deletable": false,
    "nbgrader": {
     "cell_type": "markdown",
     "checksum": "49c4292927f944a5edca1db964fcd7f3",
     "grade": true,
     "grade_id": "cell-39860df3e01f0204",
     "locked": false,
     "points": 0,
     "schema_version": 3,
     "solution": true,
     "task": false
    }
   },
   "source": [
    "**Your answer:** the first letter of Ali is A and it is at the fourth position in charset."
   ]
  },
  {
   "cell_type": "markdown",
   "metadata": {
    "deletable": false,
    "editable": false,
    "nbgrader": {
     "cell_type": "markdown",
     "checksum": "abff2aa6c349d74ed86f1f6196b5344e",
     "grade": false,
     "grade_id": "cell-5beb6efb1f504ce2",
     "locked": true,
     "schema_version": 3,
     "solution": false
    }
   },
   "source": [
    "**[1 point]** What happens if you try encoding the string `Lol@` using this function? Why?"
   ]
  },
  {
   "cell_type": "markdown",
   "metadata": {
    "deletable": false,
    "nbgrader": {
     "cell_type": "markdown",
     "checksum": "cd3dde14286714be377711d5877f5be8",
     "grade": true,
     "grade_id": "cell-613a1d700434e11a",
     "locked": false,
     "points": 1,
     "schema_version": 3,
     "solution": true
    }
   },
   "source": [
    "**Your answer:** It doesn't work because @ is not in the list (@ doesn't exist among the names in the dataset.)"
   ]
  },
  {
   "cell_type": "markdown",
   "metadata": {
    "deletable": false,
    "editable": false,
    "nbgrader": {
     "cell_type": "markdown",
     "checksum": "fd84162dfdb2a3a9f880137ea0c6cf80",
     "grade": false,
     "grade_id": "cell-fdfe2093caad0c9d",
     "locked": true,
     "schema_version": 3,
     "solution": false
    }
   },
   "source": [
    "It's definitely possible to use the tensors created with `name2tensor` to train our RNN, but in that case we would only be able to conveniently perform forward-propagation using one sample at a time.\n",
    "\n",
    "Instead, we want to batch samples together and parallelize the forward-propagation step. To do so, all samples must have the same dimensions (right now every sample has dimension `(name length) x (charset length)`, and the length of the names varies). Modify the function `name2padded_tensor` to achieve this by padding the start of the tensor with zeros, so that the output tensor always has length `target_len x (charset length)`. **[1 point]**\n",
    "\n",
    "*Hint*:\n",
    "\n",
    "- To make it easier to catch bugs in the next parts of the assignment, make sure to raise an exception if the `target_len` is smaller than the length of the input word."
   ]
  },
  {
   "cell_type": "code",
   "execution_count": 196,
   "metadata": {
    "deletable": false,
    "nbgrader": {
     "cell_type": "code",
     "checksum": "ffe913eba6ac53a7bfd9cb4b3252f8df",
     "grade": true,
     "grade_id": "cell-fbe880f01de97439",
     "locked": false,
     "points": 1,
     "schema_version": 3,
     "solution": true
    }
   },
   "outputs": [],
   "source": [
    "\n",
    "def name2padded_tensor(name, target_len):\n",
    "    \n",
    " \n",
    "    if len(name) > target_len:\n",
    "        raise Exception('Target_len is smaller than the length of the input word')\n",
    "            \n",
    "\n",
    "    \n",
    "    tensor = name2tensor(name)\n",
    "\n",
    "    tensor = torch.cat((torch.zeros(target_len-tensor.shape[0], tensor.shape[1]), tensor), 0)\n",
    "\n",
    "    return tensor\n"
   ]
  },
  {
   "cell_type": "code",
   "execution_count": 197,
   "metadata": {
    "deletable": false,
    "editable": false,
    "nbgrader": {
     "cell_type": "code",
     "checksum": "c45e582983c33659e1ed23fddf7038e7",
     "grade": false,
     "grade_id": "cell-22bb8ede1d7a7da2",
     "locked": true,
     "schema_version": 3,
     "solution": false
    }
   },
   "outputs": [
    {
     "name": "stdout",
     "output_type": "stream",
     "text": [
      "Test passed.\n"
     ]
    }
   ],
   "source": [
    "def test_name2padded_tensor():\n",
    "    test_case(case_id=\"1\", name=\"Ali\", target_len=5)\n",
    "    test_case(case_id=\"2\", name=\"Eleonora\", target_len=10)\n",
    "    print(\"Test passed.\")\n",
    "\n",
    "\n",
    "def test_case(case_id, name, target_len):\n",
    "    padded_tensor = name2padded_tensor(name, target_len)\n",
    "    new_target_len, new_charset_len = padded_tensor.shape\n",
    "    err_string = \"Case {} failed: {}\"\n",
    "\n",
    "    assert new_target_len == target_len, err_string.format(\n",
    "        case_id,\n",
    "        \"`target_len` not preserved, expected: {}, got: {}\".format(\n",
    "            target_len, new_target_len\n",
    "        ),\n",
    "    )\n",
    "\n",
    "    assert new_charset_len == 57, err_string.format(\n",
    "        case_id,\n",
    "        \"`charset_len` not preserved, expected: 57, got: {}\".format(new_charset_len)\n",
    "    )\n",
    "\n",
    "    assert padded_tensor[:2, :].sum() == 0, err_string.format(\n",
    "        case_id,\n",
    "        \"The first two rows of the tensor should be all zeros.\"\n",
    "    )\n",
    "\n",
    "    assert (\n",
    "        padded_tensor.sum(1) <= torch.ones((target_len, 1))\n",
    "    ).all(), err_string.format(case_id, \"Every row in the tensor should sum to at most 1.\")\n",
    "\n",
    "    assert padded_tensor.sum() <= len(name), err_string.format(\n",
    "        case_id,\n",
    "        \"The sum of all elements (i.e. the number of ones) should equal the number of characters in the name.\"\n",
    "    )\n",
    "\n",
    "\n",
    "test_name2padded_tensor()\n"
   ]
  },
  {
   "cell_type": "markdown",
   "metadata": {
    "deletable": false,
    "editable": false,
    "nbgrader": {
     "cell_type": "markdown",
     "checksum": "40a31911c299c0b4bd28507c4b83a495",
     "grade": false,
     "grade_id": "cell-c9657b653aeb1c93",
     "locked": true,
     "schema_version": 3,
     "solution": false
    }
   },
   "source": [
    "What should be the target length for our case in this dataset? Compute it (i.e. don't hardcode it) in the cell below and save it in a variable named `target_len`, which will be used from here on. **[1 point]**"
   ]
  },
  {
   "cell_type": "code",
   "execution_count": 198,
   "metadata": {
    "deletable": false,
    "nbgrader": {
     "cell_type": "code",
     "checksum": "e234cb9cbf5e590d942e05f678732fa1",
     "grade": true,
     "grade_id": "cell-ceb412223ee3e6dd",
     "locked": false,
     "points": 1,
     "schema_version": 3,
     "solution": true
    }
   },
   "outputs": [],
   "source": [
    "target_len = np.max([np.max([len(name) for name in names_dict[country]]) for country in list(names_dict.keys())])"
   ]
  },
  {
   "cell_type": "markdown",
   "metadata": {
    "deletable": false,
    "editable": false,
    "nbgrader": {
     "cell_type": "markdown",
     "checksum": "901b6c3ed25c85d2cec741ad2e575ade",
     "grade": false,
     "grade_id": "cell-0bd908b10b33e7e2",
     "locked": true,
     "schema_version": 3,
     "solution": false
    }
   },
   "source": [
    "Now we can go through the entire dataset, encode each of the names, and save all of it in a tensor. We'll do the same with the ground-truth labels for the countries of each name."
   ]
  },
  {
   "cell_type": "code",
   "execution_count": 199,
   "metadata": {
    "deletable": false,
    "editable": false,
    "nbgrader": {
     "cell_type": "code",
     "checksum": "15a4f57533fa906a946a783721f7d7d3",
     "grade": false,
     "grade_id": "cell-c41ca1beab4900d1",
     "locked": true,
     "schema_version": 3,
     "solution": false
    }
   },
   "outputs": [],
   "source": [
    "# Create the tensors that will hold the names and labels\n",
    "# (note that the first dimension has 0 elements, this is a way to initialize an empty tensor for concatenating later)\n",
    "xs = torch.zeros(0, target_len, len(charset))\n",
    "ys = torch.zeros(0, dtype=torch.long)\n",
    "\n",
    "for i, country in enumerate(names_dict.keys()):\n",
    "\n",
    "    # Apply the name2padded_tensor function to each name in this country\n",
    "    temp = map(lambda n: name2padded_tensor(n, target_len), names_dict[country])\n",
    "\n",
    "    # Add a new dimension to the resulting tensors\n",
    "    temp = [name_tensor[None, :, :] for name_tensor in temp]\n",
    "\n",
    "    # Concatenate all of them along this new dimension\n",
    "    names_tensor = torch.cat(temp, dim=0)\n",
    "\n",
    "    # Add these tensors to `xs`\n",
    "    # Note that we have 44504 data pairs (x,y) where a single input x has the shape (target_len, 57),\n",
    "    # where 57 is the length of the one-hot-encoded vectors.\n",
    "    xs = torch.cat([xs, names_tensor], dim=0)\n",
    "\n",
    "    # Create tensor filled with i`s and add that to the ground-truth tensor\n",
    "    ys_for_this_country = torch.zeros(names_tensor.shape[0], dtype=torch.long) + i\n",
    "    ys = torch.cat([ys, ys_for_this_country])\n",
    "\n"
   ]
  },
  {
   "cell_type": "code",
   "execution_count": 200,
   "metadata": {
    "deletable": false,
    "editable": false,
    "nbgrader": {
     "cell_type": "code",
     "checksum": "59844c38d7efe88476c8c7299e4e0eb4",
     "grade": false,
     "grade_id": "cell-52dbbea6ddcef37d",
     "locked": true,
     "schema_version": 3,
     "solution": false
    }
   },
   "outputs": [
    {
     "data": {
      "text/plain": [
       "torch.Size([44504, 22, 57])"
      ]
     },
     "execution_count": 200,
     "metadata": {},
     "output_type": "execute_result"
    }
   ],
   "source": [
    "xs.shape"
   ]
  },
  {
   "cell_type": "code",
   "execution_count": 201,
   "metadata": {
    "deletable": false,
    "editable": false,
    "nbgrader": {
     "cell_type": "code",
     "checksum": "84f30aec4ebb491a7b47bc37f3c4428d",
     "grade": false,
     "grade_id": "cell-7e884148f06eed5d",
     "locked": true,
     "schema_version": 3,
     "solution": false
    }
   },
   "outputs": [
    {
     "data": {
      "text/plain": [
       "torch.Size([44504])"
      ]
     },
     "execution_count": 201,
     "metadata": {},
     "output_type": "execute_result"
    }
   ],
   "source": [
    "ys.shape"
   ]
  },
  {
   "cell_type": "markdown",
   "metadata": {
    "deletable": false,
    "editable": false,
    "nbgrader": {
     "cell_type": "markdown",
     "checksum": "d0ad8b82a67e3dae17a9dcf05d4886e3",
     "grade": false,
     "grade_id": "cell-0aa1483447535d5e",
     "locked": true,
     "schema_version": 3,
     "solution": false
    }
   },
   "source": [
    "Now we can create a dataset with these tensors."
   ]
  },
  {
   "cell_type": "code",
   "execution_count": 202,
   "metadata": {
    "deletable": false,
    "editable": false,
    "nbgrader": {
     "cell_type": "code",
     "checksum": "c11c5ff489587a4726ddeafa336d2265",
     "grade": false,
     "grade_id": "cell-6b352207c061f029",
     "locked": true,
     "schema_version": 3,
     "solution": false
    }
   },
   "outputs": [
    {
     "name": "stdout",
     "output_type": "stream",
     "text": [
      "Using cuda\n"
     ]
    }
   ],
   "source": [
    "from torch.utils.data import TensorDataset\n",
    "\n",
    "device = torch.device(\"cuda\" if torch.cuda.is_available() else \"cpu\")\n",
    "print(f\"Using {device}\")\n",
    "dataset = TensorDataset(xs.to(device), ys.to(device))"
   ]
  },
  {
   "cell_type": "markdown",
   "metadata": {
    "deletable": false,
    "editable": false,
    "nbgrader": {
     "cell_type": "markdown",
     "checksum": "86cdcef7c72b84485a13de4cf47e3dde",
     "grade": false,
     "grade_id": "cell-c20e8ae6ac70f92f",
     "locked": true,
     "schema_version": 3,
     "solution": false
    }
   },
   "source": [
    "And split it in training, validation, and test sets."
   ]
  },
  {
   "cell_type": "code",
   "execution_count": 203,
   "metadata": {
    "deletable": false,
    "editable": false,
    "nbgrader": {
     "cell_type": "code",
     "checksum": "eee2948e07aeee5fb4e585bf48160c6b",
     "grade": false,
     "grade_id": "cell-57448454a3d5dc19",
     "locked": true,
     "schema_version": 3,
     "solution": false
    }
   },
   "outputs": [],
   "source": [
    "from torch.utils.data import random_split\n",
    "\n",
    "val_ratio = 0.15\n",
    "test_ratio = 0.15\n",
    "\n",
    "n_samples = len(dataset)\n",
    "n_val_samples = int(n_samples * val_ratio)\n",
    "n_test_samples = int(n_samples * test_ratio)\n",
    "n_train_samples = n_samples - n_val_samples - n_test_samples\n",
    "\n",
    "train_dataset, val_dataset, test_dataset = random_split(\n",
    "    dataset, [n_train_samples, n_val_samples, n_test_samples]\n",
    ")\n",
    "\n"
   ]
  },
  {
   "cell_type": "markdown",
   "metadata": {
    "deletable": false,
    "editable": false,
    "nbgrader": {
     "cell_type": "markdown",
     "checksum": "da53c7a8fffae55f48861e3dd82bfb1f",
     "grade": false,
     "grade_id": "cell-485c36faf4913176",
     "locked": true,
     "schema_version": 3,
     "solution": false
    }
   },
   "source": [
    "### 1.3 Defining the optimization"
   ]
  },
  {
   "cell_type": "markdown",
   "metadata": {
    "deletable": false,
    "editable": false,
    "nbgrader": {
     "cell_type": "markdown",
     "checksum": "55b9eae950e59b122a032b8e99f8d4da",
     "grade": false,
     "grade_id": "cell-b2ed39f361f618c2",
     "locked": true,
     "schema_version": 3,
     "solution": false
    }
   },
   "source": [
    "Now we will define the model to be trained, that is, a single layer RNN. As usual, we will create a class for the model and inherit from `nn.Module`. Define in the next cell a class for an RNN that follows the equations:\n",
    "\n",
    "$$ h_t = \\text{tanh}(W_h x_t + U_h h_{t-1} + b_h) $$\n",
    "$$ y_t = \\log \\Big(\\text{Softmax}(W_y h_t + b_y)\\Big)~,$$\n",
    "\n",
    "where $h_t$ is the current hidden-state, $h_{t-1}$ is the previous hidden state, $x_t$ is the input, $y_t$ is the output, and $W_h, U_h, b_h, W_y, b_y$ are the trainable parts of the RNN. As explained before, we will use this RNN to classify names, inputting one character at each step and using the last output as the prediction for a distribution over probable countries for the name.\n",
    "\n",
    "*Hints:*\n",
    "\n",
    "- As you're probably aware by now, PyTorch [has a layer](https://pytorch.org/docs/stable/nn.html#logsoftmax) that already applies the log and the softmax in one pass.\n",
    "- If you get errors related to size mismatches when computing the forward-propagation in your model, try reading the documentation for the specific module where the problem is occurring (e.g. [`nn.Linear`](https://pytorch.org/docs/stable/nn.html#linear)), especially the part about the expected shape of inputs and outputs.\n",
    "\n",
    "**[1 point]**"
   ]
  },
  {
   "cell_type": "code",
   "execution_count": 204,
   "metadata": {
    "deletable": false,
    "nbgrader": {
     "cell_type": "code",
     "checksum": "0c96f0bb09ac33d4edfa364bb855271c",
     "grade": true,
     "grade_id": "cell-63759a1c550cd7e1",
     "locked": false,
     "points": 1,
     "schema_version": 3,
     "solution": true
    }
   },
   "outputs": [],
   "source": [
    "import torch.nn as nn\n",
    "\n",
    "\n",
    "class RNN(nn.Module):\n",
    "    def __init__(self, input_size, hidden_size, output_size):\n",
    "        \"\"\"\n",
    "        Inputs:\n",
    "            input_size     - Dimensionality of the input of this RNN.\n",
    "            hidden_size    - Dimensionality of the hidden state.\n",
    "            output_size    - Dimensionality of the output of this RNN.\n",
    "        \"\"\"\n",
    "\n",
    "        super(RNN, self).__init__()\n",
    "        self.hidden_size = hidden_size\n",
    "        self.i2h = nn.Linear(input_size+hidden_size, hidden_size)\n",
    "        self.h2o = nn.Linear(hidden_size, output_size)\n",
    "        self.lgs = nn.LogSoftmax(dim=1)\n",
    "\n",
    "\n",
    "    def forward(self, x, h):\n",
    "        \"\"\"\n",
    "        Runs the RNN module for one time-step.\n",
    "        Inputs:\n",
    "            x              - Batch of one-hot encoded characters. \n",
    "                             Tensor of size (BATCH SIZE x CHARSET LENGTH).\n",
    "            h              - Batch of hidden states at previous time-step.\n",
    "                             Tensor of size (BATCH SIZE x `hidden_size`).\n",
    "        \n",
    "        Returns:\n",
    "            y              - Batch of outputs.\n",
    "                             Tensor of size (BATCH SIZE x NUMBER OF COUNTRIES).\n",
    "            new_h          - Batch of hidden states at current time-step.\n",
    "                             Tensor of size (BATCH SIZE x `hidden_size`).\n",
    "        \"\"\"\n",
    "\n",
    "        new_h = torch.tanh(self.i2h(torch.cat((x,h), 1)))\n",
    "        y = self.lgs(self.h2o(new_h))\n",
    "\n",
    "        return y, new_h\n"
   ]
  },
  {
   "cell_type": "markdown",
   "metadata": {
    "deletable": false,
    "editable": false,
    "nbgrader": {
     "cell_type": "markdown",
     "checksum": "ef6f13ee64c864145910c8c572c69619",
     "grade": false,
     "grade_id": "cell-41a6ab734e65e9e2",
     "locked": true,
     "schema_version": 3,
     "solution": false
    }
   },
   "source": [
    "Run the following cell to test whether the shape of your outputs are correct. Note that this *only* checks the shapes, not the content (one way you can check the actual computations of your network is to `print` the tensors as they pass through the layers, in order to check that the computations do what you expected)."
   ]
  },
  {
   "cell_type": "code",
   "execution_count": 205,
   "metadata": {
    "deletable": false,
    "editable": false,
    "nbgrader": {
     "cell_type": "code",
     "checksum": "b13549f6823038fcbdd83dcc4b043a82",
     "grade": false,
     "grade_id": "cell-0895e453938dcd22",
     "locked": true,
     "schema_version": 3,
     "solution": false
    }
   },
   "outputs": [
    {
     "name": "stdout",
     "output_type": "stream",
     "text": [
      "Test passed.\n"
     ]
    }
   ],
   "source": [
    "batch_size = 16\n",
    "# Create a test tensor of size (batch_size x CHARSET LENGTH)\n",
    "t = torch.ones((batch_size, len(charset))).to(device)\n",
    "\n",
    "# Forward-prop through the RNN\n",
    "rnn = RNN(len(charset), 3, len(names_dict)).to(device)\n",
    "h = torch.ones((batch_size, 3)).to(device)\n",
    "y, new_h = rnn(t, h)\n",
    "\n",
    "# Test dimensions of the outputs\n",
    "err_str = \"The {} has incorrect dimension. Dimension is {}, but should've been {}\"\n",
    "assert list(y.shape) == [batch_size, len(names_dict)], err_str.format(\n",
    "    \"output\", list(y.shape), [batch_size, len(names_dict)]\n",
    ")\n",
    "assert list(new_h.shape) == [batch_size, 3], err_str.format(\n",
    "    \"new hidden state\", list(new_h.shape), [batch_size, 3]\n",
    ")\n",
    "\n",
    "print(\"Test passed.\")\n",
    "\n"
   ]
  },
  {
   "cell_type": "markdown",
   "metadata": {
    "deletable": false,
    "editable": false,
    "nbgrader": {
     "cell_type": "markdown",
     "checksum": "b11e5934fe26e1176969794d05c7671f",
     "grade": false,
     "grade_id": "cell-f879b658d2fe97d5",
     "locked": true,
     "schema_version": 3,
     "solution": false
    }
   },
   "source": [
    "**[2 points]** Suppose we now create an RNN using the following call: `RNN(x, y, z)`. How many parameters would this model have in total?"
   ]
  },
  {
   "cell_type": "markdown",
   "metadata": {
    "deletable": false,
    "nbgrader": {
     "cell_type": "markdown",
     "checksum": "3a75752559679046eec4403fbd11df95",
     "grade": true,
     "grade_id": "cell-d359daf8f96289bc",
     "locked": false,
     "points": 2,
     "schema_version": 3,
     "solution": true
    }
   },
   "source": [
    "**Your answer:** There are y*(x+y+1) + z*(y+1) parameters."
   ]
  },
  {
   "cell_type": "markdown",
   "metadata": {
    "deletable": false,
    "editable": false,
    "nbgrader": {
     "cell_type": "markdown",
     "checksum": "0d5dc81f8efd4a09172a3480777b3273",
     "grade": false,
     "grade_id": "cell-e3ae784b6fd462cb",
     "locked": true,
     "schema_version": 3,
     "solution": false
    }
   },
   "source": [
    "We will use the Adam optimizer:"
   ]
  },
  {
   "cell_type": "code",
   "execution_count": 206,
   "metadata": {
    "deletable": false,
    "editable": false,
    "nbgrader": {
     "cell_type": "code",
     "checksum": "32abb30aecff746e6f8450bd2585ccd9",
     "grade": false,
     "grade_id": "cell-c8087333699def0c",
     "locked": true,
     "schema_version": 3,
     "solution": false
    }
   },
   "outputs": [],
   "source": [
    "from torch.optim import Adam"
   ]
  },
  {
   "cell_type": "markdown",
   "metadata": {
    "deletable": false,
    "editable": false,
    "nbgrader": {
     "cell_type": "markdown",
     "checksum": "76849f484a3adefd591bfca9ac7f9bbf",
     "grade": false,
     "grade_id": "cell-6411a391a74a5e36",
     "locked": true,
     "schema_version": 3,
     "solution": false
    }
   },
   "source": [
    "and since this is a classification problem we will use the negative log-likelihood loss ([`NLLLoss`](https://pytorch.org/docs/stable/generated/torch.nn.NLLLoss.html#torch.nn.NLLLoss)) to train the model. We should account for the fact that our dataset is imbalanced, and one way of dealing with this problem is to assign different weights to each class in our problem. "
   ]
  },
  {
   "cell_type": "code",
   "execution_count": 207,
   "metadata": {
    "deletable": false,
    "editable": false,
    "nbgrader": {
     "cell_type": "code",
     "checksum": "d5b7a4d07bf432bf1e03d2a0c68d3146",
     "grade": false,
     "grade_id": "cell-934166eac20acb50",
     "locked": true,
     "schema_version": 3,
     "solution": false
    }
   },
   "outputs": [],
   "source": [
    "# Compute weights for each class\n",
    "n_names_for_each_country = [len(v) for v in names_dict.values()]\n",
    "ns = torch.tensor(n_names_for_each_country, dtype=torch.float)\n",
    "w = 1.0 / ns\n",
    "w = w / w.sum()\n",
    "\n",
    "# Define loss\n",
    "criterion = nn.NLLLoss(weight=w.to(device))\n"
   ]
  },
  {
   "cell_type": "markdown",
   "metadata": {
    "deletable": false,
    "editable": false,
    "nbgrader": {
     "cell_type": "markdown",
     "checksum": "53ce890d1fddec319a2f1a498f8a0e01",
     "grade": false,
     "grade_id": "cell-b333a7e050fbe007",
     "locked": true,
     "schema_version": 3,
     "solution": false
    }
   },
   "source": [
    "**[2 points]** Why is it a problem that the dataset is imbalanced? What would be the consequence of not dealing with this problem?"
   ]
  },
  {
   "cell_type": "markdown",
   "metadata": {
    "deletable": false,
    "nbgrader": {
     "cell_type": "markdown",
     "checksum": "39b45db880f3a25283647535d49fed4f",
     "grade": true,
     "grade_id": "cell-a044d5b4e3bcf29b",
     "locked": false,
     "points": 2,
     "schema_version": 3,
     "solution": true
    }
   },
   "source": [
    "**Your answer:** An imbalanced dataset will make the model biased toward the countries with the highest number of names."
   ]
  },
  {
   "cell_type": "markdown",
   "metadata": {
    "deletable": false,
    "editable": false,
    "nbgrader": {
     "cell_type": "markdown",
     "checksum": "c349e4191662336f20987e4ac762a737",
     "grade": false,
     "grade_id": "cell-0611001189dd369a",
     "locked": true,
     "schema_version": 3,
     "solution": false
    }
   },
   "source": [
    "**[3 points]** Why does assigning different weights to each class solve this problem? How should the weights be chosen?"
   ]
  },
  {
   "cell_type": "markdown",
   "metadata": {
    "deletable": false,
    "nbgrader": {
     "cell_type": "markdown",
     "checksum": "504304e6d0e5cafb4cca4a614fef9c22",
     "grade": true,
     "grade_id": "cell-f19ff5370ea1e86d",
     "locked": false,
     "points": 3,
     "schema_version": 3,
     "solution": true
    }
   },
   "source": [
    "**Your answer:** We choose the weights so that the probability of a name being picked decreases with the number of names belonging to the country associated with that name."
   ]
  },
  {
   "cell_type": "markdown",
   "metadata": {
    "deletable": false,
    "editable": false,
    "nbgrader": {
     "cell_type": "markdown",
     "checksum": "dab1c1395041673c28ae98f9c66bea2d",
     "grade": false,
     "grade_id": "cell-ced0796bf818f493",
     "locked": true,
     "schema_version": 3,
     "solution": false
    }
   },
   "source": [
    "**[3 points]** Is there any situation where *we would want* class imbalances? How could we create such a class imbalance in a balanced dataset (without changing the dataset itself)? "
   ]
  },
  {
   "cell_type": "markdown",
   "metadata": {
    "deletable": false,
    "nbgrader": {
     "cell_type": "markdown",
     "checksum": "e39a72245eba4ba1147edbb60d0312ec",
     "grade": true,
     "grade_id": "cell-821c6a2fb462d2f9",
     "locked": false,
     "points": 3,
     "schema_version": 3,
     "solution": true
    }
   },
   "source": [
    "**Your answer:** We could assign different probabilities to different countries."
   ]
  },
  {
   "cell_type": "markdown",
   "metadata": {
    "deletable": false,
    "editable": false,
    "nbgrader": {
     "cell_type": "markdown",
     "checksum": "cbc3cc703eb376f0ad0be049bef4e506",
     "grade": false,
     "grade_id": "cell-95508ad6a5c542b5",
     "locked": true,
     "schema_version": 3,
     "solution": false
    }
   },
   "source": [
    "### 1.4 Helper functions for training"
   ]
  },
  {
   "cell_type": "markdown",
   "metadata": {
    "deletable": false,
    "editable": false,
    "nbgrader": {
     "cell_type": "markdown",
     "checksum": "58265723d45b24d2b45cf6afb91486e9",
     "grade": false,
     "grade_id": "cell-ccbb270d5fe1c30c",
     "locked": true,
     "schema_version": 3,
     "solution": false
    }
   },
   "source": [
    "Now that we defined the optimization problem, we can start creating the code to actually solve it. The first thing that we need is a function that, given a batch of samples, computes the output of the model for every sample and the average loss across all samples. \n",
    "\n",
    "Complete the function `batch_forward_prop` to produce this behavior.\n",
    "\n",
    "*Hints*:\n",
    "\n",
    "- Initialize the hidden state to a zero Tensor for the first forward-propagation.\n",
    "- If you get errors related to size mismatches when computing the forward-propagation in your model, try reading the documentation for the specific module where the problem is occurring (e.g. [`nn.Linear`](https://pytorch.org/docs/stable/nn.html#linear)), especially the part about the expected shape of inputs and outputs.\n",
    "- If you get errors related to size mismatches when computing the loss, try reading the [documentation for it](https://pytorch.org/docs/stable/nn.html#nllloss), especially the part about the expected shape of inputs and outputs.\n",
    "\n",
    "**[2 points]**"
   ]
  },
  {
   "cell_type": "code",
   "execution_count": 214,
   "metadata": {
    "deletable": false,
    "nbgrader": {
     "cell_type": "code",
     "checksum": "75648e70d6a7c1bf1efc1466ea579829",
     "grade": true,
     "grade_id": "cell-080aad948708672d",
     "locked": false,
     "points": 2,
     "schema_version": 3,
     "solution": true
    }
   },
   "outputs": [],
   "source": [
    "def batch_forward_prop(rnn, xs, ys):  \n",
    "    \"\"\"\n",
    "    Inputs:\n",
    "        rnn            - The RNN model, instance of the RNN class.\n",
    "        xs             - Batch of input words.\n",
    "                         Tensor of shape (BATCH SIZE x `target_len` x CHARSET LENGTH).\n",
    "        ys             - Batch of ground-truth labels.\n",
    "                         Tensor of  shape (BATCH_SIZE).\n",
    "    \n",
    "    Returns:\n",
    "        output         - Output computed at the last character position in the batch.\n",
    "                         Tensor of shape (BATCH_SIZE x NUMBER OF COUNTRIES).\n",
    "        loss           - Value of the average loss across the predictions for this batch, later used for back-propagation.\n",
    "                         Tensor with a single element inside.\n",
    "    \"\"\"\n",
    "    \n",
    "    hidden_size = rnn.hidden_size\n",
    "    h = torch.zeros(xs.shape[0],hidden_size).to(device)\n",
    "    for char_id in range(xs.shape[1]):\n",
    "        out, h = rnn(xs[:,char_id,:], h)\n",
    "    output = out\n",
    "    \n",
    "    loss = criterion(output, ys)\n",
    "    \n",
    "    return output, loss"
   ]
  },
  {
   "cell_type": "markdown",
   "metadata": {
    "deletable": false,
    "editable": false,
    "nbgrader": {
     "cell_type": "markdown",
     "checksum": "99ee062817c7b56e5180058437d2f26d",
     "grade": false,
     "grade_id": "cell-644f9d6aaa50e21c",
     "locked": true,
     "schema_version": 3,
     "solution": false
    }
   },
   "source": [
    "Run the following cell to test whether the shape of your outputs are correct. Note that this *only* checks the shapes, not the content."
   ]
  },
  {
   "cell_type": "code",
   "execution_count": 215,
   "metadata": {
    "deletable": false,
    "editable": false,
    "nbgrader": {
     "cell_type": "code",
     "checksum": "a3dbd376c434b09e3945c9d1ac43b803",
     "grade": false,
     "grade_id": "cell-02f7744a186b2ebe",
     "locked": true,
     "schema_version": 3,
     "solution": false
    }
   },
   "outputs": [
    {
     "name": "stdout",
     "output_type": "stream",
     "text": [
      "Test passed.\n"
     ]
    }
   ],
   "source": [
    "def test_rnn():\n",
    "    # Create two tensors\n",
    "    t1 = name2tensor('Unit')\n",
    "    t2 = name2tensor('Test')\n",
    "\n",
    "    # Add the batch dimension to them and concatenate\n",
    "    t = torch.cat([t1[None, :], t2[None, :]], dim=0)\n",
    "\n",
    "    # Create label tensor\n",
    "    l = torch.ones((2), dtype=torch.long)\n",
    "\n",
    "    # Create RNN\n",
    "    rnn = RNN(len(charset), 10, len(names_dict))\n",
    "\n",
    "    # Put everything in the correct device\n",
    "    t = t.to(device)\n",
    "    l = l.to(device)\n",
    "    rnn.to(device)\n",
    "\n",
    "    # Perform the forward-prop\n",
    "    y, loss = batch_forward_prop(rnn, t, l)\n",
    "\n",
    "    # Test dimensions of the outputs\n",
    "    err_str = 'The {} has incorrect dimension. Dimension is {}, but should\\'ve been {}'\n",
    "    assert list(y.shape) == [2, len(names_dict)], err_str.format('output', list(y.shape), [2, len(names_dict)])\n",
    "    assert list(loss.shape) == [], err_str.format('loss', list(loss.shape), [])\n",
    "\n",
    "    print('Test passed.')\n",
    "    \n",
    "test_rnn()"
   ]
  },
  {
   "cell_type": "markdown",
   "metadata": {
    "deletable": false,
    "editable": false,
    "nbgrader": {
     "cell_type": "markdown",
     "checksum": "d0829fc6b5254f539a66a81a3024bdfc",
     "grade": false,
     "grade_id": "cell-4010f6bcbc1e6245",
     "locked": true,
     "schema_version": 3,
     "solution": false
    }
   },
   "source": [
    "Using this function, it's straightforward to train on a single batch of data:"
   ]
  },
  {
   "cell_type": "code",
   "execution_count": 216,
   "metadata": {
    "deletable": false,
    "editable": false,
    "nbgrader": {
     "cell_type": "code",
     "checksum": "14bd8c317ed86e66c5c7ba211682f58b",
     "grade": false,
     "grade_id": "cell-78972c6d342b4da9",
     "locked": true,
     "schema_version": 3,
     "solution": false
    }
   },
   "outputs": [],
   "source": [
    "def train_batch(rnn, xs, ys, optimizer):\n",
    "\n",
    "    # Compute the output for all samples in the batch and the average loss\n",
    "    output, loss = batch_forward_prop(rnn, xs, ys)\n",
    "\n",
    "    # Zero gradients before computing backward-propagation\n",
    "    optimizer.zero_grad()\n",
    "\n",
    "    # Backward-propagation\n",
    "    loss.backward()\n",
    "\n",
    "    # Clip the gradient norm (optional, helps to stabilize training)\n",
    "    nn.utils.clip_grad_norm_(rnn.parameters(), 2)\n",
    "\n",
    "    # Perform one step of optimization\n",
    "    optimizer.step()\n",
    "\n",
    "    return output, loss\n"
   ]
  },
  {
   "cell_type": "markdown",
   "metadata": {
    "deletable": false,
    "editable": false,
    "nbgrader": {
     "cell_type": "markdown",
     "checksum": "576143bb6960f21f2b68bd6bb977a9f0",
     "grade": false,
     "grade_id": "cell-f2b194756febe3f1",
     "locked": true,
     "schema_version": 3,
     "solution": false
    }
   },
   "source": [
    "We will also need a function for computing metrics of interest in the validation set. In this case, we will plot both the loss and the F1-score in the validation set. The F1-score of a classifier is the [harmonic mean](https://en.wikipedia.org/wiki/Harmonic_mean) of its [precision and recall](https://en.wikipedia.org/wiki/Precision_and_recall), two metrics that are more useful than accuracy for imbalanced datasets. [This blog post](https://towardsdatascience.com/accuracy-precision-recall-or-f1-331fb37c5cb9) can help you to familiarize yourself with these new metrics."
   ]
  },
  {
   "cell_type": "code",
   "execution_count": 217,
   "metadata": {
    "deletable": false,
    "editable": false,
    "nbgrader": {
     "cell_type": "code",
     "checksum": "208a5f56500847a17c3da081f13fc9f6",
     "grade": false,
     "grade_id": "cell-94021e46113ec8cb",
     "locked": true,
     "schema_version": 3,
     "solution": false
    }
   },
   "outputs": [],
   "source": [
    "from sklearn.metrics import precision_recall_fscore_support\n",
    "\n",
    "\n",
    "def compute_metrics_on_validation_set(rnn, val_dataset):\n",
    "    # Get all the input and labels in the training set.\n",
    "    x_val, y_val = val_dataset[:]\n",
    "\n",
    "    # Perform forward-prop in the entire validation set, with autograd disabled\n",
    "    with torch.no_grad():\n",
    "        val_output, val_loss = batch_forward_prop(rnn, x_val, y_val)\n",
    "\n",
    "    # Get numpy arrays for the true labels and the predictions\n",
    "    y_true = y_val.cpu().numpy()\n",
    "    y_pred = val_output.argmax(dim=1).cpu().numpy()\n",
    "\n",
    "    # Compute precision, recall, and F-score\n",
    "    precision, recall, fscore, _ = precision_recall_fscore_support(\n",
    "        y_true, y_pred, average=\"macro\"\n",
    "    )\n",
    "\n",
    "    return val_loss, precision, recall, fscore\n"
   ]
  },
  {
   "cell_type": "markdown",
   "metadata": {
    "deletable": false,
    "editable": false,
    "nbgrader": {
     "cell_type": "markdown",
     "checksum": "06672da367df025e50d1fc66d1a14015",
     "grade": false,
     "grade_id": "cell-2e37e571600c2220",
     "locked": true,
     "schema_version": 3,
     "solution": false
    }
   },
   "source": [
    "Lastly, we define a function for plotting the metrics in real-time."
   ]
  },
  {
   "cell_type": "code",
   "execution_count": 218,
   "metadata": {
    "deletable": false,
    "editable": false,
    "nbgrader": {
     "cell_type": "code",
     "checksum": "9378a010371205dca7d327ef558bb638",
     "grade": false,
     "grade_id": "cell-2807fe4cfa2d8b29",
     "locked": true,
     "schema_version": 3,
     "solution": false
    }
   },
   "outputs": [],
   "source": [
    "def plot_metrics(fig, ax, ns, train_losses, train_fscores, val_losses, val_fscores):\n",
    "\n",
    "    # Plot losses\n",
    "    ax[0].clear()\n",
    "    ax[0].plot(ns, train_losses)\n",
    "    ax[0].plot(ns, val_losses)\n",
    "    ax[0].set_title('Loss')\n",
    "    ax[0].legend(['Train','Validation'])\n",
    "    ax[0].set_xlabel('Number of trained batches')\n",
    "    ax[0].grid()\n",
    "\n",
    "    # Plot F1-scores\n",
    "    ax[1].clear()\n",
    "    ax[1].plot(ns, train_fscores)\n",
    "    ax[1].plot(ns, val_fscores)\n",
    "    ax[1].plot(ns, [0.3]*len(ns), 'k--')\n",
    "    ax[1].set_title('Macro F1-score')\n",
    "    ax[1].legend(['Train','Validation', 'F1-score threshold'])\n",
    "    ax[1].set_xlabel('Number of trained batches')\n",
    "    ax[1].grid()\n",
    "    \n",
    "    \n",
    "    fig.canvas.draw()\n",
    "    "
   ]
  },
  {
   "cell_type": "markdown",
   "metadata": {
    "deletable": false,
    "editable": false,
    "nbgrader": {
     "cell_type": "markdown",
     "checksum": "520a4c1ba775bfc75e1ed71009bcf6b9",
     "grade": false,
     "grade_id": "cell-2a8edc5c0c4d13d6",
     "locked": true,
     "schema_version": 3,
     "solution": false
    }
   },
   "source": [
    "With these helper functions, the `train` function becomes:"
   ]
  },
  {
   "cell_type": "code",
   "execution_count": 219,
   "metadata": {
    "deletable": false,
    "editable": false,
    "nbgrader": {
     "cell_type": "code",
     "checksum": "1a9b23a5e750c299ed81585d822ad073",
     "grade": false,
     "grade_id": "cell-61029512380ba880",
     "locked": true,
     "schema_version": 3,
     "solution": false
    }
   },
   "outputs": [],
   "source": [
    "from torch.utils.data import DataLoader\n",
    "\n",
    "def train(rnn, n_epochs, learning_rate, batch_size, train_dataset, val_dataset):\n",
    "    \n",
    "    # Setup the figure for plotting progress during training\n",
    "    %matplotlib notebook\n",
    "    fig, ax = plt.subplots(ncols=2, figsize=(12,4))\n",
    "    plt.ion()\n",
    "    plot_interval = 100\n",
    "    \n",
    "    # Create arrays to average training metrics across batches\n",
    "    preds = []\n",
    "    labels = []\n",
    "    losses = []\n",
    "    \n",
    "    # Create dictionaries to hold the computed metrics in\n",
    "    train_data = {'losses': [], 'fscores': []}\n",
    "    val_data = {'losses': [], 'fscores': []}\n",
    "    \n",
    "    optimizer = Adam(rnn.parameters(), lr=learning_rate)\n",
    "    train_data_loader = DataLoader(train_dataset, batch_size=batch_size, shuffle=True, drop_last=True)\n",
    "    batch_idxs = []\n",
    "    \n",
    "    # Training loop\n",
    "    i_batch = 0\n",
    "    for n in range(n_epochs):\n",
    "        for i, (x_batch, y_batch) in enumerate(train_data_loader):\n",
    "            i_batch += 1\n",
    "            \n",
    "            # Compute loss and outputs\n",
    "            output, loss = train_batch(rnn, x_batch, y_batch, optimizer)\n",
    "            \n",
    "            # Aggregate for later averaging\n",
    "            preds += output.argmax(dim=1).cpu().tolist()\n",
    "            labels += y_batch.cpu().tolist()\n",
    "            losses.append(loss)\n",
    "            \n",
    "            # Compute metrics and plot after every `plot_interval` batches\n",
    "            if i % plot_interval == 0:\n",
    "              \n",
    "                val_loss, _, _, val_fscore = compute_metrics_on_validation_set(rnn, val_dataset)\n",
    "                train_fscore = precision_recall_fscore_support(labels, preds, average='macro')[2]\n",
    "                \n",
    "                val_data['losses'].append(val_loss.cpu())\n",
    "                val_data['fscores'].append(val_fscore)\n",
    "                train_data['losses'].append((sum(losses)/len(losses)).item())\n",
    "                train_data['fscores'].append(train_fscore)\n",
    "                batch_idxs.append(i_batch)\n",
    "\n",
    "                preds = []\n",
    "                labels = []\n",
    "                losses = []\n",
    "\n",
    "                plot_metrics(fig, ax, batch_idxs, train_data['losses'], train_data['fscores'], val_data['losses'], val_data['fscores'])"
   ]
  },
  {
   "cell_type": "markdown",
   "metadata": {
    "deletable": false,
    "editable": false,
    "nbgrader": {
     "cell_type": "markdown",
     "checksum": "0f89bbf2c0e1f3ab9e64a937f8e24863",
     "grade": false,
     "grade_id": "cell-f92f1fd576a8a7cb",
     "locked": true,
     "schema_version": 3,
     "solution": false
    }
   },
   "source": [
    "Make sure that you completely understand the `train` function before proceeding (e.g. that we aggregate predictions from different batches and compute metrics only at a certain interval, etc)."
   ]
  },
  {
   "cell_type": "markdown",
   "metadata": {
    "deletable": false,
    "editable": false,
    "nbgrader": {
     "cell_type": "markdown",
     "checksum": "487f8bd9d91b0abeeae00e8c120a6f15",
     "grade": false,
     "grade_id": "cell-18f5c7620b914ebd",
     "locked": true,
     "schema_version": 3,
     "solution": false
    }
   },
   "source": [
    "### 1.5 Training!\n",
    "\n",
    "Now we're ready to train the network! Create an RNN and use the `train` function to train it.\n",
    "\n",
    "*Hints*:\n",
    "\n",
    "- Tuning the hyper-parameters (number of hidden units, learning rate, batch size, etc) will take some trial-and-error. Try simple things first, and then once you manage to train them, start scaling up. Also, have in mind the bias-variance tradeoff mentioned in the lectures.\n",
    "- When tuning the learning rate, focus first on being able to decrease the training loss. Keep decreasing the learning rate until that starts happening.\n",
    "- You should use a GPU for fast training times. Using a CPU, training a network can take ~5-10 minutes with suitable hyper-parameters. With a GPU training takes ~1 minute with the same hyper-parameters."
   ]
  },
  {
   "cell_type": "code",
   "execution_count": 226,
   "metadata": {
    "deletable": false,
    "nbgrader": {
     "cell_type": "code",
     "checksum": "0e3d64e9c5c79168399628331405b8ed",
     "grade": true,
     "grade_id": "cell-937381af9dcaf490",
     "locked": false,
     "points": 0,
     "schema_version": 3,
     "solution": true
    }
   },
   "outputs": [
    {
     "data": {
      "application/javascript": [
       "/* Put everything inside the global mpl namespace */\n",
       "/* global mpl */\n",
       "window.mpl = {};\n",
       "\n",
       "mpl.get_websocket_type = function () {\n",
       "    if (typeof WebSocket !== 'undefined') {\n",
       "        return WebSocket;\n",
       "    } else if (typeof MozWebSocket !== 'undefined') {\n",
       "        return MozWebSocket;\n",
       "    } else {\n",
       "        alert(\n",
       "            'Your browser does not have WebSocket support. ' +\n",
       "                'Please try Chrome, Safari or Firefox ≥ 6. ' +\n",
       "                'Firefox 4 and 5 are also supported but you ' +\n",
       "                'have to enable WebSockets in about:config.'\n",
       "        );\n",
       "    }\n",
       "};\n",
       "\n",
       "mpl.figure = function (figure_id, websocket, ondownload, parent_element) {\n",
       "    this.id = figure_id;\n",
       "\n",
       "    this.ws = websocket;\n",
       "\n",
       "    this.supports_binary = this.ws.binaryType !== undefined;\n",
       "\n",
       "    if (!this.supports_binary) {\n",
       "        var warnings = document.getElementById('mpl-warnings');\n",
       "        if (warnings) {\n",
       "            warnings.style.display = 'block';\n",
       "            warnings.textContent =\n",
       "                'This browser does not support binary websocket messages. ' +\n",
       "                'Performance may be slow.';\n",
       "        }\n",
       "    }\n",
       "\n",
       "    this.imageObj = new Image();\n",
       "\n",
       "    this.context = undefined;\n",
       "    this.message = undefined;\n",
       "    this.canvas = undefined;\n",
       "    this.rubberband_canvas = undefined;\n",
       "    this.rubberband_context = undefined;\n",
       "    this.format_dropdown = undefined;\n",
       "\n",
       "    this.image_mode = 'full';\n",
       "\n",
       "    this.root = document.createElement('div');\n",
       "    this.root.setAttribute('style', 'display: inline-block');\n",
       "    this._root_extra_style(this.root);\n",
       "\n",
       "    parent_element.appendChild(this.root);\n",
       "\n",
       "    this._init_header(this);\n",
       "    this._init_canvas(this);\n",
       "    this._init_toolbar(this);\n",
       "\n",
       "    var fig = this;\n",
       "\n",
       "    this.waiting = false;\n",
       "\n",
       "    this.ws.onopen = function () {\n",
       "        fig.send_message('supports_binary', { value: fig.supports_binary });\n",
       "        fig.send_message('send_image_mode', {});\n",
       "        if (fig.ratio !== 1) {\n",
       "            fig.send_message('set_device_pixel_ratio', {\n",
       "                device_pixel_ratio: fig.ratio,\n",
       "            });\n",
       "        }\n",
       "        fig.send_message('refresh', {});\n",
       "    };\n",
       "\n",
       "    this.imageObj.onload = function () {\n",
       "        if (fig.image_mode === 'full') {\n",
       "            // Full images could contain transparency (where diff images\n",
       "            // almost always do), so we need to clear the canvas so that\n",
       "            // there is no ghosting.\n",
       "            fig.context.clearRect(0, 0, fig.canvas.width, fig.canvas.height);\n",
       "        }\n",
       "        fig.context.drawImage(fig.imageObj, 0, 0);\n",
       "    };\n",
       "\n",
       "    this.imageObj.onunload = function () {\n",
       "        fig.ws.close();\n",
       "    };\n",
       "\n",
       "    this.ws.onmessage = this._make_on_message_function(this);\n",
       "\n",
       "    this.ondownload = ondownload;\n",
       "};\n",
       "\n",
       "mpl.figure.prototype._init_header = function () {\n",
       "    var titlebar = document.createElement('div');\n",
       "    titlebar.classList =\n",
       "        'ui-dialog-titlebar ui-widget-header ui-corner-all ui-helper-clearfix';\n",
       "    var titletext = document.createElement('div');\n",
       "    titletext.classList = 'ui-dialog-title';\n",
       "    titletext.setAttribute(\n",
       "        'style',\n",
       "        'width: 100%; text-align: center; padding: 3px;'\n",
       "    );\n",
       "    titlebar.appendChild(titletext);\n",
       "    this.root.appendChild(titlebar);\n",
       "    this.header = titletext;\n",
       "};\n",
       "\n",
       "mpl.figure.prototype._canvas_extra_style = function (_canvas_div) {};\n",
       "\n",
       "mpl.figure.prototype._root_extra_style = function (_canvas_div) {};\n",
       "\n",
       "mpl.figure.prototype._init_canvas = function () {\n",
       "    var fig = this;\n",
       "\n",
       "    var canvas_div = (this.canvas_div = document.createElement('div'));\n",
       "    canvas_div.setAttribute(\n",
       "        'style',\n",
       "        'border: 1px solid #ddd;' +\n",
       "            'box-sizing: content-box;' +\n",
       "            'clear: both;' +\n",
       "            'min-height: 1px;' +\n",
       "            'min-width: 1px;' +\n",
       "            'outline: 0;' +\n",
       "            'overflow: hidden;' +\n",
       "            'position: relative;' +\n",
       "            'resize: both;'\n",
       "    );\n",
       "\n",
       "    function on_keyboard_event_closure(name) {\n",
       "        return function (event) {\n",
       "            return fig.key_event(event, name);\n",
       "        };\n",
       "    }\n",
       "\n",
       "    canvas_div.addEventListener(\n",
       "        'keydown',\n",
       "        on_keyboard_event_closure('key_press')\n",
       "    );\n",
       "    canvas_div.addEventListener(\n",
       "        'keyup',\n",
       "        on_keyboard_event_closure('key_release')\n",
       "    );\n",
       "\n",
       "    this._canvas_extra_style(canvas_div);\n",
       "    this.root.appendChild(canvas_div);\n",
       "\n",
       "    var canvas = (this.canvas = document.createElement('canvas'));\n",
       "    canvas.classList.add('mpl-canvas');\n",
       "    canvas.setAttribute('style', 'box-sizing: content-box;');\n",
       "\n",
       "    this.context = canvas.getContext('2d');\n",
       "\n",
       "    var backingStore =\n",
       "        this.context.backingStorePixelRatio ||\n",
       "        this.context.webkitBackingStorePixelRatio ||\n",
       "        this.context.mozBackingStorePixelRatio ||\n",
       "        this.context.msBackingStorePixelRatio ||\n",
       "        this.context.oBackingStorePixelRatio ||\n",
       "        this.context.backingStorePixelRatio ||\n",
       "        1;\n",
       "\n",
       "    this.ratio = (window.devicePixelRatio || 1) / backingStore;\n",
       "\n",
       "    var rubberband_canvas = (this.rubberband_canvas = document.createElement(\n",
       "        'canvas'\n",
       "    ));\n",
       "    rubberband_canvas.setAttribute(\n",
       "        'style',\n",
       "        'box-sizing: content-box; position: absolute; left: 0; top: 0; z-index: 1;'\n",
       "    );\n",
       "\n",
       "    // Apply a ponyfill if ResizeObserver is not implemented by browser.\n",
       "    if (this.ResizeObserver === undefined) {\n",
       "        if (window.ResizeObserver !== undefined) {\n",
       "            this.ResizeObserver = window.ResizeObserver;\n",
       "        } else {\n",
       "            var obs = _JSXTOOLS_RESIZE_OBSERVER({});\n",
       "            this.ResizeObserver = obs.ResizeObserver;\n",
       "        }\n",
       "    }\n",
       "\n",
       "    this.resizeObserverInstance = new this.ResizeObserver(function (entries) {\n",
       "        var nentries = entries.length;\n",
       "        for (var i = 0; i < nentries; i++) {\n",
       "            var entry = entries[i];\n",
       "            var width, height;\n",
       "            if (entry.contentBoxSize) {\n",
       "                if (entry.contentBoxSize instanceof Array) {\n",
       "                    // Chrome 84 implements new version of spec.\n",
       "                    width = entry.contentBoxSize[0].inlineSize;\n",
       "                    height = entry.contentBoxSize[0].blockSize;\n",
       "                } else {\n",
       "                    // Firefox implements old version of spec.\n",
       "                    width = entry.contentBoxSize.inlineSize;\n",
       "                    height = entry.contentBoxSize.blockSize;\n",
       "                }\n",
       "            } else {\n",
       "                // Chrome <84 implements even older version of spec.\n",
       "                width = entry.contentRect.width;\n",
       "                height = entry.contentRect.height;\n",
       "            }\n",
       "\n",
       "            // Keep the size of the canvas and rubber band canvas in sync with\n",
       "            // the canvas container.\n",
       "            if (entry.devicePixelContentBoxSize) {\n",
       "                // Chrome 84 implements new version of spec.\n",
       "                canvas.setAttribute(\n",
       "                    'width',\n",
       "                    entry.devicePixelContentBoxSize[0].inlineSize\n",
       "                );\n",
       "                canvas.setAttribute(\n",
       "                    'height',\n",
       "                    entry.devicePixelContentBoxSize[0].blockSize\n",
       "                );\n",
       "            } else {\n",
       "                canvas.setAttribute('width', width * fig.ratio);\n",
       "                canvas.setAttribute('height', height * fig.ratio);\n",
       "            }\n",
       "            canvas.setAttribute(\n",
       "                'style',\n",
       "                'width: ' + width + 'px; height: ' + height + 'px;'\n",
       "            );\n",
       "\n",
       "            rubberband_canvas.setAttribute('width', width);\n",
       "            rubberband_canvas.setAttribute('height', height);\n",
       "\n",
       "            // And update the size in Python. We ignore the initial 0/0 size\n",
       "            // that occurs as the element is placed into the DOM, which should\n",
       "            // otherwise not happen due to the minimum size styling.\n",
       "            if (fig.ws.readyState == 1 && width != 0 && height != 0) {\n",
       "                fig.request_resize(width, height);\n",
       "            }\n",
       "        }\n",
       "    });\n",
       "    this.resizeObserverInstance.observe(canvas_div);\n",
       "\n",
       "    function on_mouse_event_closure(name) {\n",
       "        return function (event) {\n",
       "            return fig.mouse_event(event, name);\n",
       "        };\n",
       "    }\n",
       "\n",
       "    rubberband_canvas.addEventListener(\n",
       "        'mousedown',\n",
       "        on_mouse_event_closure('button_press')\n",
       "    );\n",
       "    rubberband_canvas.addEventListener(\n",
       "        'mouseup',\n",
       "        on_mouse_event_closure('button_release')\n",
       "    );\n",
       "    rubberband_canvas.addEventListener(\n",
       "        'dblclick',\n",
       "        on_mouse_event_closure('dblclick')\n",
       "    );\n",
       "    // Throttle sequential mouse events to 1 every 20ms.\n",
       "    rubberband_canvas.addEventListener(\n",
       "        'mousemove',\n",
       "        on_mouse_event_closure('motion_notify')\n",
       "    );\n",
       "\n",
       "    rubberband_canvas.addEventListener(\n",
       "        'mouseenter',\n",
       "        on_mouse_event_closure('figure_enter')\n",
       "    );\n",
       "    rubberband_canvas.addEventListener(\n",
       "        'mouseleave',\n",
       "        on_mouse_event_closure('figure_leave')\n",
       "    );\n",
       "\n",
       "    canvas_div.addEventListener('wheel', function (event) {\n",
       "        if (event.deltaY < 0) {\n",
       "            event.step = 1;\n",
       "        } else {\n",
       "            event.step = -1;\n",
       "        }\n",
       "        on_mouse_event_closure('scroll')(event);\n",
       "    });\n",
       "\n",
       "    canvas_div.appendChild(canvas);\n",
       "    canvas_div.appendChild(rubberband_canvas);\n",
       "\n",
       "    this.rubberband_context = rubberband_canvas.getContext('2d');\n",
       "    this.rubberband_context.strokeStyle = '#000000';\n",
       "\n",
       "    this._resize_canvas = function (width, height, forward) {\n",
       "        if (forward) {\n",
       "            canvas_div.style.width = width + 'px';\n",
       "            canvas_div.style.height = height + 'px';\n",
       "        }\n",
       "    };\n",
       "\n",
       "    // Disable right mouse context menu.\n",
       "    this.rubberband_canvas.addEventListener('contextmenu', function (_e) {\n",
       "        event.preventDefault();\n",
       "        return false;\n",
       "    });\n",
       "\n",
       "    function set_focus() {\n",
       "        canvas.focus();\n",
       "        canvas_div.focus();\n",
       "    }\n",
       "\n",
       "    window.setTimeout(set_focus, 100);\n",
       "};\n",
       "\n",
       "mpl.figure.prototype._init_toolbar = function () {\n",
       "    var fig = this;\n",
       "\n",
       "    var toolbar = document.createElement('div');\n",
       "    toolbar.classList = 'mpl-toolbar';\n",
       "    this.root.appendChild(toolbar);\n",
       "\n",
       "    function on_click_closure(name) {\n",
       "        return function (_event) {\n",
       "            return fig.toolbar_button_onclick(name);\n",
       "        };\n",
       "    }\n",
       "\n",
       "    function on_mouseover_closure(tooltip) {\n",
       "        return function (event) {\n",
       "            if (!event.currentTarget.disabled) {\n",
       "                return fig.toolbar_button_onmouseover(tooltip);\n",
       "            }\n",
       "        };\n",
       "    }\n",
       "\n",
       "    fig.buttons = {};\n",
       "    var buttonGroup = document.createElement('div');\n",
       "    buttonGroup.classList = 'mpl-button-group';\n",
       "    for (var toolbar_ind in mpl.toolbar_items) {\n",
       "        var name = mpl.toolbar_items[toolbar_ind][0];\n",
       "        var tooltip = mpl.toolbar_items[toolbar_ind][1];\n",
       "        var image = mpl.toolbar_items[toolbar_ind][2];\n",
       "        var method_name = mpl.toolbar_items[toolbar_ind][3];\n",
       "\n",
       "        if (!name) {\n",
       "            /* Instead of a spacer, we start a new button group. */\n",
       "            if (buttonGroup.hasChildNodes()) {\n",
       "                toolbar.appendChild(buttonGroup);\n",
       "            }\n",
       "            buttonGroup = document.createElement('div');\n",
       "            buttonGroup.classList = 'mpl-button-group';\n",
       "            continue;\n",
       "        }\n",
       "\n",
       "        var button = (fig.buttons[name] = document.createElement('button'));\n",
       "        button.classList = 'mpl-widget';\n",
       "        button.setAttribute('role', 'button');\n",
       "        button.setAttribute('aria-disabled', 'false');\n",
       "        button.addEventListener('click', on_click_closure(method_name));\n",
       "        button.addEventListener('mouseover', on_mouseover_closure(tooltip));\n",
       "\n",
       "        var icon_img = document.createElement('img');\n",
       "        icon_img.src = '_images/' + image + '.png';\n",
       "        icon_img.srcset = '_images/' + image + '_large.png 2x';\n",
       "        icon_img.alt = tooltip;\n",
       "        button.appendChild(icon_img);\n",
       "\n",
       "        buttonGroup.appendChild(button);\n",
       "    }\n",
       "\n",
       "    if (buttonGroup.hasChildNodes()) {\n",
       "        toolbar.appendChild(buttonGroup);\n",
       "    }\n",
       "\n",
       "    var fmt_picker = document.createElement('select');\n",
       "    fmt_picker.classList = 'mpl-widget';\n",
       "    toolbar.appendChild(fmt_picker);\n",
       "    this.format_dropdown = fmt_picker;\n",
       "\n",
       "    for (var ind in mpl.extensions) {\n",
       "        var fmt = mpl.extensions[ind];\n",
       "        var option = document.createElement('option');\n",
       "        option.selected = fmt === mpl.default_extension;\n",
       "        option.innerHTML = fmt;\n",
       "        fmt_picker.appendChild(option);\n",
       "    }\n",
       "\n",
       "    var status_bar = document.createElement('span');\n",
       "    status_bar.classList = 'mpl-message';\n",
       "    toolbar.appendChild(status_bar);\n",
       "    this.message = status_bar;\n",
       "};\n",
       "\n",
       "mpl.figure.prototype.request_resize = function (x_pixels, y_pixels) {\n",
       "    // Request matplotlib to resize the figure. Matplotlib will then trigger a resize in the client,\n",
       "    // which will in turn request a refresh of the image.\n",
       "    this.send_message('resize', { width: x_pixels, height: y_pixels });\n",
       "};\n",
       "\n",
       "mpl.figure.prototype.send_message = function (type, properties) {\n",
       "    properties['type'] = type;\n",
       "    properties['figure_id'] = this.id;\n",
       "    this.ws.send(JSON.stringify(properties));\n",
       "};\n",
       "\n",
       "mpl.figure.prototype.send_draw_message = function () {\n",
       "    if (!this.waiting) {\n",
       "        this.waiting = true;\n",
       "        this.ws.send(JSON.stringify({ type: 'draw', figure_id: this.id }));\n",
       "    }\n",
       "};\n",
       "\n",
       "mpl.figure.prototype.handle_save = function (fig, _msg) {\n",
       "    var format_dropdown = fig.format_dropdown;\n",
       "    var format = format_dropdown.options[format_dropdown.selectedIndex].value;\n",
       "    fig.ondownload(fig, format);\n",
       "};\n",
       "\n",
       "mpl.figure.prototype.handle_resize = function (fig, msg) {\n",
       "    var size = msg['size'];\n",
       "    if (size[0] !== fig.canvas.width || size[1] !== fig.canvas.height) {\n",
       "        fig._resize_canvas(size[0], size[1], msg['forward']);\n",
       "        fig.send_message('refresh', {});\n",
       "    }\n",
       "};\n",
       "\n",
       "mpl.figure.prototype.handle_rubberband = function (fig, msg) {\n",
       "    var x0 = msg['x0'] / fig.ratio;\n",
       "    var y0 = (fig.canvas.height - msg['y0']) / fig.ratio;\n",
       "    var x1 = msg['x1'] / fig.ratio;\n",
       "    var y1 = (fig.canvas.height - msg['y1']) / fig.ratio;\n",
       "    x0 = Math.floor(x0) + 0.5;\n",
       "    y0 = Math.floor(y0) + 0.5;\n",
       "    x1 = Math.floor(x1) + 0.5;\n",
       "    y1 = Math.floor(y1) + 0.5;\n",
       "    var min_x = Math.min(x0, x1);\n",
       "    var min_y = Math.min(y0, y1);\n",
       "    var width = Math.abs(x1 - x0);\n",
       "    var height = Math.abs(y1 - y0);\n",
       "\n",
       "    fig.rubberband_context.clearRect(\n",
       "        0,\n",
       "        0,\n",
       "        fig.canvas.width / fig.ratio,\n",
       "        fig.canvas.height / fig.ratio\n",
       "    );\n",
       "\n",
       "    fig.rubberband_context.strokeRect(min_x, min_y, width, height);\n",
       "};\n",
       "\n",
       "mpl.figure.prototype.handle_figure_label = function (fig, msg) {\n",
       "    // Updates the figure title.\n",
       "    fig.header.textContent = msg['label'];\n",
       "};\n",
       "\n",
       "mpl.figure.prototype.handle_cursor = function (fig, msg) {\n",
       "    fig.rubberband_canvas.style.cursor = msg['cursor'];\n",
       "};\n",
       "\n",
       "mpl.figure.prototype.handle_message = function (fig, msg) {\n",
       "    fig.message.textContent = msg['message'];\n",
       "};\n",
       "\n",
       "mpl.figure.prototype.handle_draw = function (fig, _msg) {\n",
       "    // Request the server to send over a new figure.\n",
       "    fig.send_draw_message();\n",
       "};\n",
       "\n",
       "mpl.figure.prototype.handle_image_mode = function (fig, msg) {\n",
       "    fig.image_mode = msg['mode'];\n",
       "};\n",
       "\n",
       "mpl.figure.prototype.handle_history_buttons = function (fig, msg) {\n",
       "    for (var key in msg) {\n",
       "        if (!(key in fig.buttons)) {\n",
       "            continue;\n",
       "        }\n",
       "        fig.buttons[key].disabled = !msg[key];\n",
       "        fig.buttons[key].setAttribute('aria-disabled', !msg[key]);\n",
       "    }\n",
       "};\n",
       "\n",
       "mpl.figure.prototype.handle_navigate_mode = function (fig, msg) {\n",
       "    if (msg['mode'] === 'PAN') {\n",
       "        fig.buttons['Pan'].classList.add('active');\n",
       "        fig.buttons['Zoom'].classList.remove('active');\n",
       "    } else if (msg['mode'] === 'ZOOM') {\n",
       "        fig.buttons['Pan'].classList.remove('active');\n",
       "        fig.buttons['Zoom'].classList.add('active');\n",
       "    } else {\n",
       "        fig.buttons['Pan'].classList.remove('active');\n",
       "        fig.buttons['Zoom'].classList.remove('active');\n",
       "    }\n",
       "};\n",
       "\n",
       "mpl.figure.prototype.updated_canvas_event = function () {\n",
       "    // Called whenever the canvas gets updated.\n",
       "    this.send_message('ack', {});\n",
       "};\n",
       "\n",
       "// A function to construct a web socket function for onmessage handling.\n",
       "// Called in the figure constructor.\n",
       "mpl.figure.prototype._make_on_message_function = function (fig) {\n",
       "    return function socket_on_message(evt) {\n",
       "        if (evt.data instanceof Blob) {\n",
       "            var img = evt.data;\n",
       "            if (img.type !== 'image/png') {\n",
       "                /* FIXME: We get \"Resource interpreted as Image but\n",
       "                 * transferred with MIME type text/plain:\" errors on\n",
       "                 * Chrome.  But how to set the MIME type?  It doesn't seem\n",
       "                 * to be part of the websocket stream */\n",
       "                img.type = 'image/png';\n",
       "            }\n",
       "\n",
       "            /* Free the memory for the previous frames */\n",
       "            if (fig.imageObj.src) {\n",
       "                (window.URL || window.webkitURL).revokeObjectURL(\n",
       "                    fig.imageObj.src\n",
       "                );\n",
       "            }\n",
       "\n",
       "            fig.imageObj.src = (window.URL || window.webkitURL).createObjectURL(\n",
       "                img\n",
       "            );\n",
       "            fig.updated_canvas_event();\n",
       "            fig.waiting = false;\n",
       "            return;\n",
       "        } else if (\n",
       "            typeof evt.data === 'string' &&\n",
       "            evt.data.slice(0, 21) === 'data:image/png;base64'\n",
       "        ) {\n",
       "            fig.imageObj.src = evt.data;\n",
       "            fig.updated_canvas_event();\n",
       "            fig.waiting = false;\n",
       "            return;\n",
       "        }\n",
       "\n",
       "        var msg = JSON.parse(evt.data);\n",
       "        var msg_type = msg['type'];\n",
       "\n",
       "        // Call the  \"handle_{type}\" callback, which takes\n",
       "        // the figure and JSON message as its only arguments.\n",
       "        try {\n",
       "            var callback = fig['handle_' + msg_type];\n",
       "        } catch (e) {\n",
       "            console.log(\n",
       "                \"No handler for the '\" + msg_type + \"' message type: \",\n",
       "                msg\n",
       "            );\n",
       "            return;\n",
       "        }\n",
       "\n",
       "        if (callback) {\n",
       "            try {\n",
       "                // console.log(\"Handling '\" + msg_type + \"' message: \", msg);\n",
       "                callback(fig, msg);\n",
       "            } catch (e) {\n",
       "                console.log(\n",
       "                    \"Exception inside the 'handler_\" + msg_type + \"' callback:\",\n",
       "                    e,\n",
       "                    e.stack,\n",
       "                    msg\n",
       "                );\n",
       "            }\n",
       "        }\n",
       "    };\n",
       "};\n",
       "\n",
       "// from https://stackoverflow.com/questions/1114465/getting-mouse-location-in-canvas\n",
       "mpl.findpos = function (e) {\n",
       "    //this section is from http://www.quirksmode.org/js/events_properties.html\n",
       "    var targ;\n",
       "    if (!e) {\n",
       "        e = window.event;\n",
       "    }\n",
       "    if (e.target) {\n",
       "        targ = e.target;\n",
       "    } else if (e.srcElement) {\n",
       "        targ = e.srcElement;\n",
       "    }\n",
       "    if (targ.nodeType === 3) {\n",
       "        // defeat Safari bug\n",
       "        targ = targ.parentNode;\n",
       "    }\n",
       "\n",
       "    // pageX,Y are the mouse positions relative to the document\n",
       "    var boundingRect = targ.getBoundingClientRect();\n",
       "    var x = e.pageX - (boundingRect.left + document.body.scrollLeft);\n",
       "    var y = e.pageY - (boundingRect.top + document.body.scrollTop);\n",
       "\n",
       "    return { x: x, y: y };\n",
       "};\n",
       "\n",
       "/*\n",
       " * return a copy of an object with only non-object keys\n",
       " * we need this to avoid circular references\n",
       " * https://stackoverflow.com/a/24161582/3208463\n",
       " */\n",
       "function simpleKeys(original) {\n",
       "    return Object.keys(original).reduce(function (obj, key) {\n",
       "        if (typeof original[key] !== 'object') {\n",
       "            obj[key] = original[key];\n",
       "        }\n",
       "        return obj;\n",
       "    }, {});\n",
       "}\n",
       "\n",
       "mpl.figure.prototype.mouse_event = function (event, name) {\n",
       "    var canvas_pos = mpl.findpos(event);\n",
       "\n",
       "    if (name === 'button_press') {\n",
       "        this.canvas.focus();\n",
       "        this.canvas_div.focus();\n",
       "    }\n",
       "\n",
       "    var x = canvas_pos.x * this.ratio;\n",
       "    var y = canvas_pos.y * this.ratio;\n",
       "\n",
       "    this.send_message(name, {\n",
       "        x: x,\n",
       "        y: y,\n",
       "        button: event.button,\n",
       "        step: event.step,\n",
       "        guiEvent: simpleKeys(event),\n",
       "    });\n",
       "\n",
       "    /* This prevents the web browser from automatically changing to\n",
       "     * the text insertion cursor when the button is pressed.  We want\n",
       "     * to control all of the cursor setting manually through the\n",
       "     * 'cursor' event from matplotlib */\n",
       "    event.preventDefault();\n",
       "    return false;\n",
       "};\n",
       "\n",
       "mpl.figure.prototype._key_event_extra = function (_event, _name) {\n",
       "    // Handle any extra behaviour associated with a key event\n",
       "};\n",
       "\n",
       "mpl.figure.prototype.key_event = function (event, name) {\n",
       "    // Prevent repeat events\n",
       "    if (name === 'key_press') {\n",
       "        if (event.key === this._key) {\n",
       "            return;\n",
       "        } else {\n",
       "            this._key = event.key;\n",
       "        }\n",
       "    }\n",
       "    if (name === 'key_release') {\n",
       "        this._key = null;\n",
       "    }\n",
       "\n",
       "    var value = '';\n",
       "    if (event.ctrlKey && event.key !== 'Control') {\n",
       "        value += 'ctrl+';\n",
       "    }\n",
       "    else if (event.altKey && event.key !== 'Alt') {\n",
       "        value += 'alt+';\n",
       "    }\n",
       "    else if (event.shiftKey && event.key !== 'Shift') {\n",
       "        value += 'shift+';\n",
       "    }\n",
       "\n",
       "    value += 'k' + event.key;\n",
       "\n",
       "    this._key_event_extra(event, name);\n",
       "\n",
       "    this.send_message(name, { key: value, guiEvent: simpleKeys(event) });\n",
       "    return false;\n",
       "};\n",
       "\n",
       "mpl.figure.prototype.toolbar_button_onclick = function (name) {\n",
       "    if (name === 'download') {\n",
       "        this.handle_save(this, null);\n",
       "    } else {\n",
       "        this.send_message('toolbar_button', { name: name });\n",
       "    }\n",
       "};\n",
       "\n",
       "mpl.figure.prototype.toolbar_button_onmouseover = function (tooltip) {\n",
       "    this.message.textContent = tooltip;\n",
       "};\n",
       "\n",
       "///////////////// REMAINING CONTENT GENERATED BY embed_js.py /////////////////\n",
       "// prettier-ignore\n",
       "var _JSXTOOLS_RESIZE_OBSERVER=function(A){var t,i=new WeakMap,n=new WeakMap,a=new WeakMap,r=new WeakMap,o=new Set;function s(e){if(!(this instanceof s))throw new TypeError(\"Constructor requires 'new' operator\");i.set(this,e)}function h(){throw new TypeError(\"Function is not a constructor\")}function c(e,t,i,n){e=0 in arguments?Number(arguments[0]):0,t=1 in arguments?Number(arguments[1]):0,i=2 in arguments?Number(arguments[2]):0,n=3 in arguments?Number(arguments[3]):0,this.right=(this.x=this.left=e)+(this.width=i),this.bottom=(this.y=this.top=t)+(this.height=n),Object.freeze(this)}function d(){t=requestAnimationFrame(d);var s=new WeakMap,p=new Set;o.forEach((function(t){r.get(t).forEach((function(i){var r=t instanceof window.SVGElement,o=a.get(t),d=r?0:parseFloat(o.paddingTop),f=r?0:parseFloat(o.paddingRight),l=r?0:parseFloat(o.paddingBottom),u=r?0:parseFloat(o.paddingLeft),g=r?0:parseFloat(o.borderTopWidth),m=r?0:parseFloat(o.borderRightWidth),w=r?0:parseFloat(o.borderBottomWidth),b=u+f,F=d+l,v=(r?0:parseFloat(o.borderLeftWidth))+m,W=g+w,y=r?0:t.offsetHeight-W-t.clientHeight,E=r?0:t.offsetWidth-v-t.clientWidth,R=b+v,z=F+W,M=r?t.width:parseFloat(o.width)-R-E,O=r?t.height:parseFloat(o.height)-z-y;if(n.has(t)){var k=n.get(t);if(k[0]===M&&k[1]===O)return}n.set(t,[M,O]);var S=Object.create(h.prototype);S.target=t,S.contentRect=new c(u,d,M,O),s.has(i)||(s.set(i,[]),p.add(i)),s.get(i).push(S)}))})),p.forEach((function(e){i.get(e).call(e,s.get(e),e)}))}return s.prototype.observe=function(i){if(i instanceof window.Element){r.has(i)||(r.set(i,new Set),o.add(i),a.set(i,window.getComputedStyle(i)));var n=r.get(i);n.has(this)||n.add(this),cancelAnimationFrame(t),t=requestAnimationFrame(d)}},s.prototype.unobserve=function(i){if(i instanceof window.Element&&r.has(i)){var n=r.get(i);n.has(this)&&(n.delete(this),n.size||(r.delete(i),o.delete(i))),n.size||r.delete(i),o.size||cancelAnimationFrame(t)}},A.DOMRectReadOnly=c,A.ResizeObserver=s,A.ResizeObserverEntry=h,A}; // eslint-disable-line\n",
       "mpl.toolbar_items = [[\"Home\", \"Reset original view\", \"fa fa-home icon-home\", \"home\"], [\"Back\", \"Back to previous view\", \"fa fa-arrow-left icon-arrow-left\", \"back\"], [\"Forward\", \"Forward to next view\", \"fa fa-arrow-right icon-arrow-right\", \"forward\"], [\"\", \"\", \"\", \"\"], [\"Pan\", \"Left button pans, Right button zooms\\nx/y fixes axis, CTRL fixes aspect\", \"fa fa-arrows icon-move\", \"pan\"], [\"Zoom\", \"Zoom to rectangle\\nx/y fixes axis\", \"fa fa-square-o icon-check-empty\", \"zoom\"], [\"\", \"\", \"\", \"\"], [\"Download\", \"Download plot\", \"fa fa-floppy-o icon-save\", \"download\"]];\n",
       "\n",
       "mpl.extensions = [\"eps\", \"jpeg\", \"pgf\", \"pdf\", \"png\", \"ps\", \"raw\", \"svg\", \"tif\"];\n",
       "\n",
       "mpl.default_extension = \"png\";/* global mpl */\n",
       "\n",
       "var comm_websocket_adapter = function (comm) {\n",
       "    // Create a \"websocket\"-like object which calls the given IPython comm\n",
       "    // object with the appropriate methods. Currently this is a non binary\n",
       "    // socket, so there is still some room for performance tuning.\n",
       "    var ws = {};\n",
       "\n",
       "    ws.binaryType = comm.kernel.ws.binaryType;\n",
       "    ws.readyState = comm.kernel.ws.readyState;\n",
       "    function updateReadyState(_event) {\n",
       "        if (comm.kernel.ws) {\n",
       "            ws.readyState = comm.kernel.ws.readyState;\n",
       "        } else {\n",
       "            ws.readyState = 3; // Closed state.\n",
       "        }\n",
       "    }\n",
       "    comm.kernel.ws.addEventListener('open', updateReadyState);\n",
       "    comm.kernel.ws.addEventListener('close', updateReadyState);\n",
       "    comm.kernel.ws.addEventListener('error', updateReadyState);\n",
       "\n",
       "    ws.close = function () {\n",
       "        comm.close();\n",
       "    };\n",
       "    ws.send = function (m) {\n",
       "        //console.log('sending', m);\n",
       "        comm.send(m);\n",
       "    };\n",
       "    // Register the callback with on_msg.\n",
       "    comm.on_msg(function (msg) {\n",
       "        //console.log('receiving', msg['content']['data'], msg);\n",
       "        var data = msg['content']['data'];\n",
       "        if (data['blob'] !== undefined) {\n",
       "            data = {\n",
       "                data: new Blob(msg['buffers'], { type: data['blob'] }),\n",
       "            };\n",
       "        }\n",
       "        // Pass the mpl event to the overridden (by mpl) onmessage function.\n",
       "        ws.onmessage(data);\n",
       "    });\n",
       "    return ws;\n",
       "};\n",
       "\n",
       "mpl.mpl_figure_comm = function (comm, msg) {\n",
       "    // This is the function which gets called when the mpl process\n",
       "    // starts-up an IPython Comm through the \"matplotlib\" channel.\n",
       "\n",
       "    var id = msg.content.data.id;\n",
       "    // Get hold of the div created by the display call when the Comm\n",
       "    // socket was opened in Python.\n",
       "    var element = document.getElementById(id);\n",
       "    var ws_proxy = comm_websocket_adapter(comm);\n",
       "\n",
       "    function ondownload(figure, _format) {\n",
       "        window.open(figure.canvas.toDataURL());\n",
       "    }\n",
       "\n",
       "    var fig = new mpl.figure(id, ws_proxy, ondownload, element);\n",
       "\n",
       "    // Call onopen now - mpl needs it, as it is assuming we've passed it a real\n",
       "    // web socket which is closed, not our websocket->open comm proxy.\n",
       "    ws_proxy.onopen();\n",
       "\n",
       "    fig.parent_element = element;\n",
       "    fig.cell_info = mpl.find_output_cell(\"<div id='\" + id + \"'></div>\");\n",
       "    if (!fig.cell_info) {\n",
       "        console.error('Failed to find cell for figure', id, fig);\n",
       "        return;\n",
       "    }\n",
       "    fig.cell_info[0].output_area.element.on(\n",
       "        'cleared',\n",
       "        { fig: fig },\n",
       "        fig._remove_fig_handler\n",
       "    );\n",
       "};\n",
       "\n",
       "mpl.figure.prototype.handle_close = function (fig, msg) {\n",
       "    var width = fig.canvas.width / fig.ratio;\n",
       "    fig.cell_info[0].output_area.element.off(\n",
       "        'cleared',\n",
       "        fig._remove_fig_handler\n",
       "    );\n",
       "    fig.resizeObserverInstance.unobserve(fig.canvas_div);\n",
       "\n",
       "    // Update the output cell to use the data from the current canvas.\n",
       "    fig.push_to_output();\n",
       "    var dataURL = fig.canvas.toDataURL();\n",
       "    // Re-enable the keyboard manager in IPython - without this line, in FF,\n",
       "    // the notebook keyboard shortcuts fail.\n",
       "    IPython.keyboard_manager.enable();\n",
       "    fig.parent_element.innerHTML =\n",
       "        '<img src=\"' + dataURL + '\" width=\"' + width + '\">';\n",
       "    fig.close_ws(fig, msg);\n",
       "};\n",
       "\n",
       "mpl.figure.prototype.close_ws = function (fig, msg) {\n",
       "    fig.send_message('closing', msg);\n",
       "    // fig.ws.close()\n",
       "};\n",
       "\n",
       "mpl.figure.prototype.push_to_output = function (_remove_interactive) {\n",
       "    // Turn the data on the canvas into data in the output cell.\n",
       "    var width = this.canvas.width / this.ratio;\n",
       "    var dataURL = this.canvas.toDataURL();\n",
       "    this.cell_info[1]['text/html'] =\n",
       "        '<img src=\"' + dataURL + '\" width=\"' + width + '\">';\n",
       "};\n",
       "\n",
       "mpl.figure.prototype.updated_canvas_event = function () {\n",
       "    // Tell IPython that the notebook contents must change.\n",
       "    IPython.notebook.set_dirty(true);\n",
       "    this.send_message('ack', {});\n",
       "    var fig = this;\n",
       "    // Wait a second, then push the new image to the DOM so\n",
       "    // that it is saved nicely (might be nice to debounce this).\n",
       "    setTimeout(function () {\n",
       "        fig.push_to_output();\n",
       "    }, 1000);\n",
       "};\n",
       "\n",
       "mpl.figure.prototype._init_toolbar = function () {\n",
       "    var fig = this;\n",
       "\n",
       "    var toolbar = document.createElement('div');\n",
       "    toolbar.classList = 'btn-toolbar';\n",
       "    this.root.appendChild(toolbar);\n",
       "\n",
       "    function on_click_closure(name) {\n",
       "        return function (_event) {\n",
       "            return fig.toolbar_button_onclick(name);\n",
       "        };\n",
       "    }\n",
       "\n",
       "    function on_mouseover_closure(tooltip) {\n",
       "        return function (event) {\n",
       "            if (!event.currentTarget.disabled) {\n",
       "                return fig.toolbar_button_onmouseover(tooltip);\n",
       "            }\n",
       "        };\n",
       "    }\n",
       "\n",
       "    fig.buttons = {};\n",
       "    var buttonGroup = document.createElement('div');\n",
       "    buttonGroup.classList = 'btn-group';\n",
       "    var button;\n",
       "    for (var toolbar_ind in mpl.toolbar_items) {\n",
       "        var name = mpl.toolbar_items[toolbar_ind][0];\n",
       "        var tooltip = mpl.toolbar_items[toolbar_ind][1];\n",
       "        var image = mpl.toolbar_items[toolbar_ind][2];\n",
       "        var method_name = mpl.toolbar_items[toolbar_ind][3];\n",
       "\n",
       "        if (!name) {\n",
       "            /* Instead of a spacer, we start a new button group. */\n",
       "            if (buttonGroup.hasChildNodes()) {\n",
       "                toolbar.appendChild(buttonGroup);\n",
       "            }\n",
       "            buttonGroup = document.createElement('div');\n",
       "            buttonGroup.classList = 'btn-group';\n",
       "            continue;\n",
       "        }\n",
       "\n",
       "        button = fig.buttons[name] = document.createElement('button');\n",
       "        button.classList = 'btn btn-default';\n",
       "        button.href = '#';\n",
       "        button.title = name;\n",
       "        button.innerHTML = '<i class=\"fa ' + image + ' fa-lg\"></i>';\n",
       "        button.addEventListener('click', on_click_closure(method_name));\n",
       "        button.addEventListener('mouseover', on_mouseover_closure(tooltip));\n",
       "        buttonGroup.appendChild(button);\n",
       "    }\n",
       "\n",
       "    if (buttonGroup.hasChildNodes()) {\n",
       "        toolbar.appendChild(buttonGroup);\n",
       "    }\n",
       "\n",
       "    // Add the status bar.\n",
       "    var status_bar = document.createElement('span');\n",
       "    status_bar.classList = 'mpl-message pull-right';\n",
       "    toolbar.appendChild(status_bar);\n",
       "    this.message = status_bar;\n",
       "\n",
       "    // Add the close button to the window.\n",
       "    var buttongrp = document.createElement('div');\n",
       "    buttongrp.classList = 'btn-group inline pull-right';\n",
       "    button = document.createElement('button');\n",
       "    button.classList = 'btn btn-mini btn-primary';\n",
       "    button.href = '#';\n",
       "    button.title = 'Stop Interaction';\n",
       "    button.innerHTML = '<i class=\"fa fa-power-off icon-remove icon-large\"></i>';\n",
       "    button.addEventListener('click', function (_evt) {\n",
       "        fig.handle_close(fig, {});\n",
       "    });\n",
       "    button.addEventListener(\n",
       "        'mouseover',\n",
       "        on_mouseover_closure('Stop Interaction')\n",
       "    );\n",
       "    buttongrp.appendChild(button);\n",
       "    var titlebar = this.root.querySelector('.ui-dialog-titlebar');\n",
       "    titlebar.insertBefore(buttongrp, titlebar.firstChild);\n",
       "};\n",
       "\n",
       "mpl.figure.prototype._remove_fig_handler = function (event) {\n",
       "    var fig = event.data.fig;\n",
       "    if (event.target !== this) {\n",
       "        // Ignore bubbled events from children.\n",
       "        return;\n",
       "    }\n",
       "    fig.close_ws(fig, {});\n",
       "};\n",
       "\n",
       "mpl.figure.prototype._root_extra_style = function (el) {\n",
       "    el.style.boxSizing = 'content-box'; // override notebook setting of border-box.\n",
       "};\n",
       "\n",
       "mpl.figure.prototype._canvas_extra_style = function (el) {\n",
       "    // this is important to make the div 'focusable\n",
       "    el.setAttribute('tabindex', 0);\n",
       "    // reach out to IPython and tell the keyboard manager to turn it's self\n",
       "    // off when our div gets focus\n",
       "\n",
       "    // location in version 3\n",
       "    if (IPython.notebook.keyboard_manager) {\n",
       "        IPython.notebook.keyboard_manager.register_events(el);\n",
       "    } else {\n",
       "        // location in version 2\n",
       "        IPython.keyboard_manager.register_events(el);\n",
       "    }\n",
       "};\n",
       "\n",
       "mpl.figure.prototype._key_event_extra = function (event, _name) {\n",
       "    // Check for shift+enter\n",
       "    if (event.shiftKey && event.which === 13) {\n",
       "        this.canvas_div.blur();\n",
       "        // select the cell after this one\n",
       "        var index = IPython.notebook.find_cell_index(this.cell_info[0]);\n",
       "        IPython.notebook.select(index + 1);\n",
       "    }\n",
       "};\n",
       "\n",
       "mpl.figure.prototype.handle_save = function (fig, _msg) {\n",
       "    fig.ondownload(fig, null);\n",
       "};\n",
       "\n",
       "mpl.find_output_cell = function (html_output) {\n",
       "    // Return the cell and output element which can be found *uniquely* in the notebook.\n",
       "    // Note - this is a bit hacky, but it is done because the \"notebook_saving.Notebook\"\n",
       "    // IPython event is triggered only after the cells have been serialised, which for\n",
       "    // our purposes (turning an active figure into a static one), is too late.\n",
       "    var cells = IPython.notebook.get_cells();\n",
       "    var ncells = cells.length;\n",
       "    for (var i = 0; i < ncells; i++) {\n",
       "        var cell = cells[i];\n",
       "        if (cell.cell_type === 'code') {\n",
       "            for (var j = 0; j < cell.output_area.outputs.length; j++) {\n",
       "                var data = cell.output_area.outputs[j];\n",
       "                if (data.data) {\n",
       "                    // IPython >= 3 moved mimebundle to data attribute of output\n",
       "                    data = data.data;\n",
       "                }\n",
       "                if (data['text/html'] === html_output) {\n",
       "                    return [cell, data, j];\n",
       "                }\n",
       "            }\n",
       "        }\n",
       "    }\n",
       "};\n",
       "\n",
       "// Register the function which deals with the matplotlib target/channel.\n",
       "// The kernel may be null if the page has been refreshed.\n",
       "if (IPython.notebook.kernel !== null) {\n",
       "    IPython.notebook.kernel.comm_manager.register_target(\n",
       "        'matplotlib',\n",
       "        mpl.mpl_figure_comm\n",
       "    );\n",
       "}\n"
      ],
      "text/plain": [
       "<IPython.core.display.Javascript object>"
      ]
     },
     "metadata": {},
     "output_type": "display_data"
    },
    {
     "data": {
      "text/html": [
       "<img src=\"data:image/png;base64,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\" width=\"863.9\">"
      ],
      "text/plain": [
       "<IPython.core.display.HTML object>"
      ]
     },
     "metadata": {},
     "output_type": "display_data"
    }
   ],
   "source": [
    "import warnings\n",
    "warnings.filterwarnings('ignore')\n",
    "\n",
    "rnn = RNN(len(charset), 128, len(names_dict)).to(device=device)\n",
    "train(rnn, 15, 0.001, 64, train_dataset, val_dataset)"
   ]
  },
  {
   "cell_type": "markdown",
   "metadata": {
    "deletable": false,
    "editable": false,
    "nbgrader": {
     "cell_type": "markdown",
     "checksum": "ec7510ce50876d9072ff172b5a6bed05",
     "grade": false,
     "grade_id": "cell-b59e32abfa0bf9ef",
     "locked": true,
     "schema_version": 3,
     "solution": false
    }
   },
   "source": [
    "Make sure you obtain at least 0.3 F1-score in the validation set before proceeding."
   ]
  },
  {
   "cell_type": "markdown",
   "metadata": {
    "deletable": false,
    "editable": false,
    "nbgrader": {
     "cell_type": "markdown",
     "checksum": "0c90c4448ae9e3cfffa5e8dc30b21411",
     "grade": false,
     "grade_id": "cell-09fe0d5786ed0073",
     "locked": true,
     "schema_version": 3,
     "solution": false
    }
   },
   "source": [
    "### 1.6 Evaluation"
   ]
  },
  {
   "cell_type": "markdown",
   "metadata": {
    "deletable": false,
    "editable": false,
    "nbgrader": {
     "cell_type": "markdown",
     "checksum": "32ba20bdba94d72537d559f5d7fed869",
     "grade": false,
     "grade_id": "cell-098308391c682cd8",
     "locked": true,
     "schema_version": 3,
     "solution": false
    }
   },
   "source": [
    "Now that our model is trained, we can evaluate its predictions on the test set. "
   ]
  },
  {
   "cell_type": "code",
   "execution_count": 227,
   "metadata": {
    "deletable": false,
    "editable": false,
    "nbgrader": {
     "cell_type": "code",
     "checksum": "d028367fa4f2b8e07b9f412bc0dc82cc",
     "grade": false,
     "grade_id": "cell-ee9fecbd4fc5e6cd",
     "locked": true,
     "schema_version": 3,
     "solution": false
    }
   },
   "outputs": [],
   "source": [
    "# Get all samples from the test set\n",
    "x_test, y_test = test_dataset[:]\n",
    "\n",
    "# Compute predictions\n",
    "with torch.no_grad():\n",
    "    test_out, _ = batch_forward_prop(rnn, x_test, y_test)\n",
    "\n",
    "# Transform them into hard predictions\n",
    "preds = test_out.argmax(dim=1)\n",
    "\n",
    "# Get `preds` as a numpy array\n",
    "preds = preds.cpu().numpy()"
   ]
  },
  {
   "cell_type": "markdown",
   "metadata": {
    "deletable": false,
    "editable": false,
    "nbgrader": {
     "cell_type": "markdown",
     "checksum": "5fdeb2d6a4e4a5402f0feb9554634e15",
     "grade": false,
     "grade_id": "cell-6968066e3b5b4085",
     "locked": true,
     "schema_version": 3,
     "solution": false
    }
   },
   "source": [
    "Using these predictions, we can compute the confusion matrix on the test set as follows."
   ]
  },
  {
   "cell_type": "code",
   "execution_count": 228,
   "metadata": {
    "deletable": false,
    "editable": false,
    "nbgrader": {
     "cell_type": "code",
     "checksum": "2ca8a97e26fea408fe09e4eed8350526",
     "grade": false,
     "grade_id": "cell-003dfbe728ab93f4",
     "locked": true,
     "schema_version": 3,
     "solution": false
    }
   },
   "outputs": [
    {
     "data": {
      "text/plain": [
       "array([[0.17006803, 0.03401361, 0.0952381 , ..., 0.        , 0.01360544,\n",
       "        0.04081633],\n",
       "       [0.07142857, 0.45238095, 0.07142857, ..., 0.        , 0.02380952,\n",
       "        0.        ],\n",
       "       [0.08703375, 0.02486679, 0.14742451, ..., 0.0071048 , 0.0071048 ,\n",
       "        0.03197158],\n",
       "       ...,\n",
       "       [0.        , 0.        , 0.00490196, ..., 0.83823529, 0.00490196,\n",
       "        0.01470588],\n",
       "       [0.        , 0.        , 0.        , ..., 0.        , 0.80392157,\n",
       "        0.08823529],\n",
       "       [0.        , 0.        , 0.        , ..., 0.02564103, 0.07692308,\n",
       "        0.79487179]])"
      ]
     },
     "execution_count": 228,
     "metadata": {},
     "output_type": "execute_result"
    }
   ],
   "source": [
    "from sklearn.metrics import confusion_matrix\n",
    "\n",
    "# Compute the confusion matrix\n",
    "y_true = y_test.cpu().numpy()\n",
    "cm = confusion_matrix(y_true, preds)\n",
    "cm = cm.astype('float64')\n",
    "\n",
    "# Normalize each row\n",
    "for i in range(cm.shape[0]):\n",
    "    cm[i, :] = cm[i, :] / sum(cm[i, :])\n",
    "    \n",
    "cm"
   ]
  },
  {
   "cell_type": "markdown",
   "metadata": {
    "deletable": false,
    "editable": false,
    "nbgrader": {
     "cell_type": "markdown",
     "checksum": "498ae92e6253b9951570fd782bb67f28",
     "grade": false,
     "grade_id": "cell-d0a5d53862716ff5",
     "locked": true,
     "schema_version": 3,
     "solution": false
    }
   },
   "source": [
    "In order to make this easier to visualize, let's plot it as a heat map:"
   ]
  },
  {
   "cell_type": "code",
   "execution_count": 229,
   "metadata": {
    "deletable": false,
    "editable": false,
    "nbgrader": {
     "cell_type": "code",
     "checksum": "5eed47cfe9145966604d70f8a0ae1ab5",
     "grade": false,
     "grade_id": "cell-0ac30bac8eee0481",
     "locked": true,
     "schema_version": 3,
     "solution": false
    }
   },
   "outputs": [
    {
     "data": {
      "image/png": "[encoded data removed]",
      "text/plain": [
       "<Figure size 720x720 with 1 Axes>"
      ]
     },
     "metadata": {
      "needs_background": "light"
     },
     "output_type": "display_data"
    }
   ],
   "source": [
    "%matplotlib inline\n",
    "plt.figure(figsize=(10, 10))\n",
    "plt.imshow(cm)\n",
    "plt.xticks(range(len(names_dict)), names_dict.keys(), rotation='vertical')\n",
    "plt.yticks(range(len(names_dict)), names_dict.keys())\n",
    "plt.xlabel('Predicted label')\n",
    "plt.ylabel('True label')\n",
    "plt.show()"
   ]
  },
  {
   "cell_type": "markdown",
   "metadata": {
    "deletable": false,
    "editable": false,
    "nbgrader": {
     "cell_type": "markdown",
     "checksum": "699749612d8cf6acf9f342e8fdc00ec9",
     "grade": false,
     "grade_id": "cell-baa17f34d2c98af3",
     "locked": true,
     "schema_version": 3,
     "solution": false
    }
   },
   "source": [
    "**[1 point]** Why did we normalize the rows of the confusion matrix? "
   ]
  },
  {
   "cell_type": "markdown",
   "metadata": {
    "deletable": false,
    "nbgrader": {
     "cell_type": "markdown",
     "checksum": "8809376b54c2dbd1c37e038a54589d97",
     "grade": true,
     "grade_id": "cell-5e952f1af1335cd1",
     "locked": false,
     "points": 1,
     "schema_version": 3,
     "solution": true
    }
   },
   "source": [
    "**Your answer:** For each true label, this gives us the proportion of samples being predicted as a given label."
   ]
  },
  {
   "cell_type": "markdown",
   "metadata": {
    "deletable": false,
    "editable": false,
    "nbgrader": {
     "cell_type": "markdown",
     "checksum": "b3ce186431569960c43df0a99a34d0d4",
     "grade": false,
     "grade_id": "cell-b56067b9a8f982ed",
     "locked": true,
     "schema_version": 3,
     "solution": false
    }
   },
   "source": [
    "**[2 points]** What can you conclude from this confusion matrix? Which classes are easy/hard to classify? Which classes are being confused?"
   ]
  },
  {
   "cell_type": "markdown",
   "metadata": {
    "deletable": false,
    "nbgrader": {
     "cell_type": "markdown",
     "checksum": "c83e6f1c4e0c6e0f64d1d9b0a3235d78",
     "grade": true,
     "grade_id": "cell-e3597dc61426d8a3",
     "locked": false,
     "points": 2,
     "schema_version": 3,
     "solution": true
    }
   },
   "source": [
    "**Your answer:** We can see that classes such as China, korea and vietnam are among the easiest to classify. Conversely, spanish names are often misclassified as italian. The classes Azerbaijan, great britain and USA are also difficult to classify. "
   ]
  },
  {
   "cell_type": "markdown",
   "metadata": {
    "deletable": false,
    "editable": false,
    "nbgrader": {
     "cell_type": "markdown",
     "checksum": "9ff548903b15da02335b1f0111ac9c4a",
     "grade": false,
     "grade_id": "cell-a1cd31c6856025a5",
     "locked": true,
     "schema_version": 3,
     "solution": false
    }
   },
   "source": [
    "To end this task, we can now define a function to perform predictions on any input name we provide (as long as the name contains only characters in our character set)."
   ]
  },
  {
   "cell_type": "code",
   "execution_count": 230,
   "metadata": {
    "deletable": false,
    "editable": false,
    "nbgrader": {
     "cell_type": "code",
     "checksum": "16ff9962bca7277a96de8620d03b1264",
     "grade": false,
     "grade_id": "cell-07f9089a7c996db0",
     "locked": true,
     "schema_version": 3,
     "solution": false
    }
   },
   "outputs": [],
   "source": [
    "def evaluate(name_tensor):\n",
    "    with torch.no_grad():\n",
    "        hidden = torch.zeros(1, rnn.hidden_size).to(device)\n",
    "        for i in range(name_tensor.shape[1]):\n",
    "            output, hidden = rnn(name_tensor[:, i, :], hidden)\n",
    "    return output.exp()\n",
    "\n",
    "def predict(input_line, n_predictions=5):\n",
    "    tensor = name2tensor(input_line).to(device)[None, :]\n",
    "    output = evaluate(tensor)\n",
    "\n",
    "    # Get top N categories\n",
    "    topv, topi = output.topk(n_predictions, 1, True)\n",
    "    topv, topi = topv[0], topi[0]\n",
    "        \n",
    "    cats = [list(names_dict.keys())[i] for i in topi.cpu().numpy()]\n",
    "    vs = topv.cpu().numpy()\n",
    "\n",
    "    plt.figure(figsize=(10,3))\n",
    "    plt.bar(range(len(vs)), vs)\n",
    "    plt.xticks(range(len(vs)), cats)"
   ]
  },
  {
   "cell_type": "code",
   "execution_count": 231,
   "metadata": {
    "deletable": false,
    "editable": false,
    "nbgrader": {
     "cell_type": "code",
     "checksum": "663d002913d786ae06797435cabb49b3",
     "grade": false,
     "grade_id": "cell-ee607ec26d687e7a",
     "locked": true,
     "schema_version": 3,
     "solution": false
    }
   },
   "outputs": [
    {
     "data": {
      "image/png": "[encoded data removed]",
      "text/plain": [
       "<Figure size 720x216 with 1 Axes>"
      ]
     },
     "metadata": {
      "needs_background": "light"
     },
     "output_type": "display_data"
    }
   ],
   "source": [
    "predict('Åsakvi')"
   ]
  },
  {
   "cell_type": "code",
   "execution_count": 232,
   "metadata": {
    "deletable": false,
    "editable": false,
    "nbgrader": {
     "cell_type": "code",
     "checksum": "de6ea4fca69dcdfafe0989d3c5a18f2b",
     "grade": false,
     "grade_id": "cell-fcc84c5b71d65216",
     "locked": true,
     "schema_version": 3,
     "solution": false
    }
   },
   "outputs": [
    {
     "data": {
      "image/png": "[encoded data removed]",
      "text/plain": [
       "<Figure size 720x216 with 1 Axes>"
      ]
     },
     "metadata": {
      "needs_background": "light"
     },
     "output_type": "display_data"
    }
   ],
   "source": [
    "predict('Harakabim')"
   ]
  },
  {
   "cell_type": "code",
   "execution_count": 233,
   "metadata": {
    "deletable": false,
    "editable": false,
    "nbgrader": {
     "cell_type": "code",
     "checksum": "8677e866517c65d978435ec0bd2c7213",
     "grade": false,
     "grade_id": "cell-d8af5b38ed527dc0",
     "locked": true,
     "schema_version": 3,
     "solution": false
    }
   },
   "outputs": [
    {
     "data": {
      "image/png": "[encoded data removed]",
      "text/plain": [
       "<Figure size 720x216 with 1 Axes>"
      ]
     },
     "metadata": {
      "needs_background": "light"
     },
     "output_type": "display_data"
    }
   ],
   "source": [
    "predict('Alakazam')"
   ]
  },
  {
   "cell_type": "code",
   "execution_count": 234,
   "metadata": {
    "deletable": false,
    "editable": false,
    "nbgrader": {
     "cell_type": "code",
     "checksum": "8aeaf021219a2f4697067d2fd4a41506",
     "grade": false,
     "grade_id": "cell-608a1a0a87fdcfbc",
     "locked": true,
     "schema_version": 3,
     "solution": false
    }
   },
   "outputs": [
    {
     "data": {
      "image/png": "[encoded data removed]",
      "text/plain": [
       "<Figure size 720x216 with 1 Axes>"
      ]
     },
     "metadata": {
      "needs_background": "light"
     },
     "output_type": "display_data"
    }
   ],
   "source": [
    "predict('Jin Quaio')"
   ]
  },
  {
   "cell_type": "code",
   "execution_count": 235,
   "metadata": {
    "deletable": false,
    "editable": false,
    "nbgrader": {
     "cell_type": "code",
     "checksum": "82b217f4a574a2cc23ad6233505d1d3e",
     "grade": false,
     "grade_id": "cell-9e46296a62c4ad3b",
     "locked": true,
     "schema_version": 3,
     "solution": false
    }
   },
   "outputs": [
    {
     "data": {
      "image/png": "[encoded data removed]",
      "text/plain": [
       "<Figure size 720x216 with 1 Axes>"
      ]
     },
     "metadata": {
      "needs_background": "light"
     },
     "output_type": "display_data"
    }
   ],
   "source": [
    "predict('Leonardino')"
   ]
  },
  {
   "cell_type": "code",
   "execution_count": 236,
   "metadata": {
    "deletable": false,
    "editable": false,
    "nbgrader": {
     "cell_type": "code",
     "checksum": "e2cbe7f4dcf0f10d6f011dca38976ec9",
     "grade": false,
     "grade_id": "cell-7107524e76e71c41",
     "locked": true,
     "schema_version": 3,
     "solution": false
    }
   },
   "outputs": [
    {
     "data": {
      "image/png": "[encoded data removed]",
      "text/plain": [
       "<Figure size 720x216 with 1 Axes>"
      ]
     },
     "metadata": {
      "needs_background": "light"
     },
     "output_type": "display_data"
    }
   ],
   "source": [
    "predict('Kim Sung')"
   ]
  },
  {
   "cell_type": "code",
   "execution_count": 237,
   "metadata": {
    "deletable": false,
    "editable": false,
    "nbgrader": {
     "cell_type": "code",
     "checksum": "aafceedc4f3f9ddbacf4b76548e8aa95",
     "grade": false,
     "grade_id": "cell-e5c047f1d1960750",
     "locked": true,
     "schema_version": 3,
     "solution": false
    }
   },
   "outputs": [
    {
     "data": {
      "image/png": "[encoded data removed]",
      "text/plain": [
       "<Figure size 720x216 with 1 Axes>"
      ]
     },
     "metadata": {
      "needs_background": "light"
     },
     "output_type": "display_data"
    }
   ],
   "source": [
    "predict('Thanos')"
   ]
  },
  {
   "cell_type": "code",
   "execution_count": 238,
   "metadata": {
    "deletable": false,
    "editable": false,
    "nbgrader": {
     "cell_type": "code",
     "checksum": "7c82ec8b8c895b208611f139201ac560",
     "grade": false,
     "grade_id": "cell-fc41f7e0ab00a192",
     "locked": true,
     "schema_version": 3,
     "solution": false
    }
   },
   "outputs": [
    {
     "data": {
      "image/png": "[encoded data removed]",
      "text/plain": [
       "<Figure size 720x216 with 1 Axes>"
      ]
     },
     "metadata": {
      "needs_background": "light"
     },
     "output_type": "display_data"
    }
   ],
   "source": [
    "predict('Viiviika')"
   ]
  },
  {
   "cell_type": "markdown",
   "metadata": {
    "deletable": false,
    "editable": false,
    "nbgrader": {
     "cell_type": "markdown",
     "checksum": "bdf82da73d54b9f9e00cb0f323dcf206",
     "grade": false,
     "grade_id": "cell-5b8cdb44355a89df",
     "locked": true,
     "schema_version": 3,
     "solution": false
    }
   },
   "source": [
    "Experiment on new names using the next cell:"
   ]
  }
 ],
 "metadata": {
  "kernelspec": {
   "display_name": "Python 3 (ipykernel)",
   "language": "python",
   "name": "python3"
  },
  "language_info": {
   "codemirror_mode": {
    "name": "ipython",
    "version": 3
   },
   "file_extension": ".py",
   "mimetype": "text/x-python",
   "name": "python",
   "nbconvert_exporter": "python",
   "pygments_lexer": "ipython3",
   "version": "3.9.12"
  },
  "vscode": {
   "interpreter": {
    "hash": "d94bb5ce8f1aac59beba206cd685a74cc957e1538cbbfce7cec92ea121e47d25"
   }
  }
 },
 "nbformat": 4,
 "nbformat_minor": 2
}
